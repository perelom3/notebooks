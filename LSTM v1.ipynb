{
 "cells": [
  {
   "cell_type": "code",
   "execution_count": 1,
   "metadata": {},
   "outputs": [
    {
     "name": "stderr",
     "output_type": "stream",
     "text": [
      "Using Theano backend.\n"
     ]
    }
   ],
   "source": [
    "import pandas as pd\n",
    "import numpy as np\n",
    "import pandas_datareader as pdr\n",
    "import matplotlib.pyplot as plt\n",
    "from sklearn import preprocessing\n",
    "from keras.models import Sequential\n",
    "from keras.layers.core import Dense, Activation\n",
    "from keras.layers.recurrent import LSTM"
   ]
  },
  {
   "cell_type": "code",
   "execution_count": 2,
   "metadata": {
    "collapsed": true
   },
   "outputs": [],
   "source": [
    "import datetime as dt"
   ]
  },
  {
   "cell_type": "code",
   "execution_count": 3,
   "metadata": {
    "collapsed": true
   },
   "outputs": [],
   "source": [
    "start = dt.date(2013, 9, 20)"
   ]
  },
  {
   "cell_type": "code",
   "execution_count": 4,
   "metadata": {
    "collapsed": true
   },
   "outputs": [],
   "source": [
    "end = dt.date(2017, 9, 19)"
   ]
  },
  {
   "cell_type": "code",
   "execution_count": 6,
   "metadata": {
    "collapsed": true
   },
   "outputs": [],
   "source": [
    "spy = pdr.DataReader('SPY', 'yahoo', start, end)"
   ]
  },
  {
   "cell_type": "code",
   "execution_count": 7,
   "metadata": {},
   "outputs": [
    {
     "data": {
      "text/html": [
       "<div>\n",
       "<style>\n",
       "    .dataframe thead tr:only-child th {\n",
       "        text-align: right;\n",
       "    }\n",
       "\n",
       "    .dataframe thead th {\n",
       "        text-align: left;\n",
       "    }\n",
       "\n",
       "    .dataframe tbody tr th {\n",
       "        vertical-align: top;\n",
       "    }\n",
       "</style>\n",
       "<table border=\"1\" class=\"dataframe\">\n",
       "  <thead>\n",
       "    <tr style=\"text-align: right;\">\n",
       "      <th></th>\n",
       "      <th>Open</th>\n",
       "      <th>High</th>\n",
       "      <th>Low</th>\n",
       "      <th>Close</th>\n",
       "      <th>Adj Close</th>\n",
       "      <th>Volume</th>\n",
       "    </tr>\n",
       "    <tr>\n",
       "      <th>Date</th>\n",
       "      <th></th>\n",
       "      <th></th>\n",
       "      <th></th>\n",
       "      <th></th>\n",
       "      <th></th>\n",
       "      <th></th>\n",
       "    </tr>\n",
       "  </thead>\n",
       "  <tbody>\n",
       "    <tr>\n",
       "      <th>2013-09-20</th>\n",
       "      <td>172.330002</td>\n",
       "      <td>172.330002</td>\n",
       "      <td>170.580002</td>\n",
       "      <td>170.720001</td>\n",
       "      <td>157.500931</td>\n",
       "      <td>132867100</td>\n",
       "    </tr>\n",
       "    <tr>\n",
       "      <th>2013-09-23</th>\n",
       "      <td>170.490005</td>\n",
       "      <td>170.649994</td>\n",
       "      <td>169.389999</td>\n",
       "      <td>169.929993</td>\n",
       "      <td>156.772095</td>\n",
       "      <td>104616500</td>\n",
       "    </tr>\n",
       "    <tr>\n",
       "      <th>2013-09-24</th>\n",
       "      <td>169.899994</td>\n",
       "      <td>170.529999</td>\n",
       "      <td>169.210007</td>\n",
       "      <td>169.529999</td>\n",
       "      <td>156.403091</td>\n",
       "      <td>106333100</td>\n",
       "    </tr>\n",
       "    <tr>\n",
       "      <th>2013-09-25</th>\n",
       "      <td>169.639999</td>\n",
       "      <td>169.979996</td>\n",
       "      <td>168.889999</td>\n",
       "      <td>169.039993</td>\n",
       "      <td>155.951004</td>\n",
       "      <td>117306500</td>\n",
       "    </tr>\n",
       "    <tr>\n",
       "      <th>2013-09-26</th>\n",
       "      <td>169.320007</td>\n",
       "      <td>170.169998</td>\n",
       "      <td>169.050003</td>\n",
       "      <td>169.690002</td>\n",
       "      <td>156.550705</td>\n",
       "      <td>77146900</td>\n",
       "    </tr>\n",
       "  </tbody>\n",
       "</table>\n",
       "</div>"
      ],
      "text/plain": [
       "                  Open        High         Low       Close   Adj Close  \\\n",
       "Date                                                                     \n",
       "2013-09-20  172.330002  172.330002  170.580002  170.720001  157.500931   \n",
       "2013-09-23  170.490005  170.649994  169.389999  169.929993  156.772095   \n",
       "2013-09-24  169.899994  170.529999  169.210007  169.529999  156.403091   \n",
       "2013-09-25  169.639999  169.979996  168.889999  169.039993  155.951004   \n",
       "2013-09-26  169.320007  170.169998  169.050003  169.690002  156.550705   \n",
       "\n",
       "               Volume  \n",
       "Date                   \n",
       "2013-09-20  132867100  \n",
       "2013-09-23  104616500  \n",
       "2013-09-24  106333100  \n",
       "2013-09-25  117306500  \n",
       "2013-09-26   77146900  "
      ]
     },
     "execution_count": 7,
     "metadata": {},
     "output_type": "execute_result"
    }
   ],
   "source": [
    "spy.head()"
   ]
  },
  {
   "cell_type": "code",
   "execution_count": 8,
   "metadata": {},
   "outputs": [
    {
     "data": {
      "text/html": [
       "<div>\n",
       "<style>\n",
       "    .dataframe thead tr:only-child th {\n",
       "        text-align: right;\n",
       "    }\n",
       "\n",
       "    .dataframe thead th {\n",
       "        text-align: left;\n",
       "    }\n",
       "\n",
       "    .dataframe tbody tr th {\n",
       "        vertical-align: top;\n",
       "    }\n",
       "</style>\n",
       "<table border=\"1\" class=\"dataframe\">\n",
       "  <thead>\n",
       "    <tr style=\"text-align: right;\">\n",
       "      <th></th>\n",
       "      <th>Open</th>\n",
       "      <th>High</th>\n",
       "      <th>Low</th>\n",
       "      <th>Close</th>\n",
       "      <th>Adj Close</th>\n",
       "      <th>Volume</th>\n",
       "    </tr>\n",
       "    <tr>\n",
       "      <th>Date</th>\n",
       "      <th></th>\n",
       "      <th></th>\n",
       "      <th></th>\n",
       "      <th></th>\n",
       "      <th></th>\n",
       "      <th></th>\n",
       "    </tr>\n",
       "  </thead>\n",
       "  <tbody>\n",
       "    <tr>\n",
       "      <th>2017-09-13</th>\n",
       "      <td>249.720001</td>\n",
       "      <td>250.210007</td>\n",
       "      <td>249.589996</td>\n",
       "      <td>250.169998</td>\n",
       "      <td>248.934601</td>\n",
       "      <td>59228000</td>\n",
       "    </tr>\n",
       "    <tr>\n",
       "      <th>2017-09-14</th>\n",
       "      <td>249.800003</td>\n",
       "      <td>250.320007</td>\n",
       "      <td>249.600006</td>\n",
       "      <td>250.089996</td>\n",
       "      <td>248.854996</td>\n",
       "      <td>95446300</td>\n",
       "    </tr>\n",
       "    <tr>\n",
       "      <th>2017-09-15</th>\n",
       "      <td>248.690002</td>\n",
       "      <td>249.289993</td>\n",
       "      <td>248.570007</td>\n",
       "      <td>249.190002</td>\n",
       "      <td>249.190002</td>\n",
       "      <td>95432400</td>\n",
       "    </tr>\n",
       "    <tr>\n",
       "      <th>2017-09-18</th>\n",
       "      <td>249.610001</td>\n",
       "      <td>250.119995</td>\n",
       "      <td>249.279999</td>\n",
       "      <td>249.720001</td>\n",
       "      <td>249.720001</td>\n",
       "      <td>46235200</td>\n",
       "    </tr>\n",
       "    <tr>\n",
       "      <th>2017-09-19</th>\n",
       "      <td>250.000000</td>\n",
       "      <td>250.070007</td>\n",
       "      <td>249.600006</td>\n",
       "      <td>249.970001</td>\n",
       "      <td>249.970001</td>\n",
       "      <td>42035000</td>\n",
       "    </tr>\n",
       "  </tbody>\n",
       "</table>\n",
       "</div>"
      ],
      "text/plain": [
       "                  Open        High         Low       Close   Adj Close  \\\n",
       "Date                                                                     \n",
       "2017-09-13  249.720001  250.210007  249.589996  250.169998  248.934601   \n",
       "2017-09-14  249.800003  250.320007  249.600006  250.089996  248.854996   \n",
       "2017-09-15  248.690002  249.289993  248.570007  249.190002  249.190002   \n",
       "2017-09-18  249.610001  250.119995  249.279999  249.720001  249.720001   \n",
       "2017-09-19  250.000000  250.070007  249.600006  249.970001  249.970001   \n",
       "\n",
       "              Volume  \n",
       "Date                  \n",
       "2017-09-13  59228000  \n",
       "2017-09-14  95446300  \n",
       "2017-09-15  95432400  \n",
       "2017-09-18  46235200  \n",
       "2017-09-19  42035000  "
      ]
     },
     "execution_count": 8,
     "metadata": {},
     "output_type": "execute_result"
    }
   ],
   "source": [
    "spy.tail()"
   ]
  },
  {
   "cell_type": "code",
   "execution_count": 22,
   "metadata": {
    "collapsed": true
   },
   "outputs": [],
   "source": [
    "data = spy.drop(['Open', 'High', 'Low', 'Close', 'Volume'], axis=1)"
   ]
  },
  {
   "cell_type": "code",
   "execution_count": 25,
   "metadata": {
    "collapsed": true
   },
   "outputs": [],
   "source": [
    "data = data.rename(columns={'Adj Close': 'SPY'})"
   ]
  },
  {
   "cell_type": "code",
   "execution_count": 26,
   "metadata": {},
   "outputs": [
    {
     "data": {
      "text/html": [
       "<div>\n",
       "<style>\n",
       "    .dataframe thead tr:only-child th {\n",
       "        text-align: right;\n",
       "    }\n",
       "\n",
       "    .dataframe thead th {\n",
       "        text-align: left;\n",
       "    }\n",
       "\n",
       "    .dataframe tbody tr th {\n",
       "        vertical-align: top;\n",
       "    }\n",
       "</style>\n",
       "<table border=\"1\" class=\"dataframe\">\n",
       "  <thead>\n",
       "    <tr style=\"text-align: right;\">\n",
       "      <th></th>\n",
       "      <th>SPY</th>\n",
       "    </tr>\n",
       "    <tr>\n",
       "      <th>Date</th>\n",
       "      <th></th>\n",
       "    </tr>\n",
       "  </thead>\n",
       "  <tbody>\n",
       "    <tr>\n",
       "      <th>2013-09-20</th>\n",
       "      <td>157.500931</td>\n",
       "    </tr>\n",
       "    <tr>\n",
       "      <th>2013-09-23</th>\n",
       "      <td>156.772095</td>\n",
       "    </tr>\n",
       "    <tr>\n",
       "      <th>2013-09-24</th>\n",
       "      <td>156.403091</td>\n",
       "    </tr>\n",
       "    <tr>\n",
       "      <th>2013-09-25</th>\n",
       "      <td>155.951004</td>\n",
       "    </tr>\n",
       "    <tr>\n",
       "      <th>2013-09-26</th>\n",
       "      <td>156.550705</td>\n",
       "    </tr>\n",
       "  </tbody>\n",
       "</table>\n",
       "</div>"
      ],
      "text/plain": [
       "                   SPY\n",
       "Date                  \n",
       "2013-09-20  157.500931\n",
       "2013-09-23  156.772095\n",
       "2013-09-24  156.403091\n",
       "2013-09-25  155.951004\n",
       "2013-09-26  156.550705"
      ]
     },
     "execution_count": 26,
     "metadata": {},
     "output_type": "execute_result"
    }
   ],
   "source": [
    "data.head()"
   ]
  },
  {
   "cell_type": "code",
   "execution_count": 27,
   "metadata": {},
   "outputs": [
    {
     "data": {
      "text/plain": [
       "pandas.core.frame.DataFrame"
      ]
     },
     "execution_count": 27,
     "metadata": {},
     "output_type": "execute_result"
    }
   ],
   "source": [
    "type(data)"
   ]
  },
  {
   "cell_type": "code",
   "execution_count": 28,
   "metadata": {
    "collapsed": true
   },
   "outputs": [],
   "source": [
    "yt_1 = data.shift(1)"
   ]
  },
  {
   "cell_type": "code",
   "execution_count": 30,
   "metadata": {
    "collapsed": true
   },
   "outputs": [],
   "source": [
    "yt_2 = data.shift(2)"
   ]
  },
  {
   "cell_type": "code",
   "execution_count": 31,
   "metadata": {
    "collapsed": true
   },
   "outputs": [],
   "source": [
    "yt_3 = data.shift(3)"
   ]
  },
  {
   "cell_type": "code",
   "execution_count": 32,
   "metadata": {
    "collapsed": true
   },
   "outputs": [],
   "source": [
    "yt_4 = data.shift(4)"
   ]
  },
  {
   "cell_type": "code",
   "execution_count": 33,
   "metadata": {
    "collapsed": true
   },
   "outputs": [],
   "source": [
    "yt_5 = data.shift(5)"
   ]
  },
  {
   "cell_type": "code",
   "execution_count": 34,
   "metadata": {
    "collapsed": true
   },
   "outputs": [],
   "source": [
    "d1 = pd.concat([data,yt_1,yt_2,yt_3,yt_4,yt_5], axis=1)"
   ]
  },
  {
   "cell_type": "code",
   "execution_count": 35,
   "metadata": {},
   "outputs": [
    {
     "data": {
      "text/html": [
       "<div>\n",
       "<style>\n",
       "    .dataframe thead tr:only-child th {\n",
       "        text-align: right;\n",
       "    }\n",
       "\n",
       "    .dataframe thead th {\n",
       "        text-align: left;\n",
       "    }\n",
       "\n",
       "    .dataframe tbody tr th {\n",
       "        vertical-align: top;\n",
       "    }\n",
       "</style>\n",
       "<table border=\"1\" class=\"dataframe\">\n",
       "  <thead>\n",
       "    <tr style=\"text-align: right;\">\n",
       "      <th></th>\n",
       "      <th>SPY</th>\n",
       "      <th>SPY</th>\n",
       "      <th>SPY</th>\n",
       "      <th>SPY</th>\n",
       "      <th>SPY</th>\n",
       "      <th>SPY</th>\n",
       "    </tr>\n",
       "    <tr>\n",
       "      <th>Date</th>\n",
       "      <th></th>\n",
       "      <th></th>\n",
       "      <th></th>\n",
       "      <th></th>\n",
       "      <th></th>\n",
       "      <th></th>\n",
       "    </tr>\n",
       "  </thead>\n",
       "  <tbody>\n",
       "    <tr>\n",
       "      <th>2013-09-20</th>\n",
       "      <td>157.500931</td>\n",
       "      <td>NaN</td>\n",
       "      <td>NaN</td>\n",
       "      <td>NaN</td>\n",
       "      <td>NaN</td>\n",
       "      <td>NaN</td>\n",
       "    </tr>\n",
       "    <tr>\n",
       "      <th>2013-09-23</th>\n",
       "      <td>156.772095</td>\n",
       "      <td>157.500931</td>\n",
       "      <td>NaN</td>\n",
       "      <td>NaN</td>\n",
       "      <td>NaN</td>\n",
       "      <td>NaN</td>\n",
       "    </tr>\n",
       "    <tr>\n",
       "      <th>2013-09-24</th>\n",
       "      <td>156.403091</td>\n",
       "      <td>156.772095</td>\n",
       "      <td>157.500931</td>\n",
       "      <td>NaN</td>\n",
       "      <td>NaN</td>\n",
       "      <td>NaN</td>\n",
       "    </tr>\n",
       "    <tr>\n",
       "      <th>2013-09-25</th>\n",
       "      <td>155.951004</td>\n",
       "      <td>156.403091</td>\n",
       "      <td>156.772095</td>\n",
       "      <td>157.500931</td>\n",
       "      <td>NaN</td>\n",
       "      <td>NaN</td>\n",
       "    </tr>\n",
       "    <tr>\n",
       "      <th>2013-09-26</th>\n",
       "      <td>156.550705</td>\n",
       "      <td>155.951004</td>\n",
       "      <td>156.403091</td>\n",
       "      <td>156.772095</td>\n",
       "      <td>157.500931</td>\n",
       "      <td>NaN</td>\n",
       "    </tr>\n",
       "  </tbody>\n",
       "</table>\n",
       "</div>"
      ],
      "text/plain": [
       "                   SPY         SPY         SPY         SPY         SPY  SPY\n",
       "Date                                                                       \n",
       "2013-09-20  157.500931         NaN         NaN         NaN         NaN  NaN\n",
       "2013-09-23  156.772095  157.500931         NaN         NaN         NaN  NaN\n",
       "2013-09-24  156.403091  156.772095  157.500931         NaN         NaN  NaN\n",
       "2013-09-25  155.951004  156.403091  156.772095  157.500931         NaN  NaN\n",
       "2013-09-26  156.550705  155.951004  156.403091  156.772095  157.500931  NaN"
      ]
     },
     "execution_count": 35,
     "metadata": {},
     "output_type": "execute_result"
    }
   ],
   "source": [
    "d1.head()"
   ]
  },
  {
   "cell_type": "code",
   "execution_count": 36,
   "metadata": {
    "collapsed": true
   },
   "outputs": [],
   "source": [
    "d1.columns = ['yt','yt_1','yt_2','yt_3','yt_4','yt5']"
   ]
  },
  {
   "cell_type": "code",
   "execution_count": 37,
   "metadata": {},
   "outputs": [
    {
     "data": {
      "text/html": [
       "<div>\n",
       "<style>\n",
       "    .dataframe thead tr:only-child th {\n",
       "        text-align: right;\n",
       "    }\n",
       "\n",
       "    .dataframe thead th {\n",
       "        text-align: left;\n",
       "    }\n",
       "\n",
       "    .dataframe tbody tr th {\n",
       "        vertical-align: top;\n",
       "    }\n",
       "</style>\n",
       "<table border=\"1\" class=\"dataframe\">\n",
       "  <thead>\n",
       "    <tr style=\"text-align: right;\">\n",
       "      <th></th>\n",
       "      <th>yt</th>\n",
       "      <th>yt_1</th>\n",
       "      <th>yt_2</th>\n",
       "      <th>yt_3</th>\n",
       "      <th>yt_4</th>\n",
       "      <th>yt5</th>\n",
       "    </tr>\n",
       "    <tr>\n",
       "      <th>Date</th>\n",
       "      <th></th>\n",
       "      <th></th>\n",
       "      <th></th>\n",
       "      <th></th>\n",
       "      <th></th>\n",
       "      <th></th>\n",
       "    </tr>\n",
       "  </thead>\n",
       "  <tbody>\n",
       "    <tr>\n",
       "      <th>2013-09-20</th>\n",
       "      <td>157.500931</td>\n",
       "      <td>NaN</td>\n",
       "      <td>NaN</td>\n",
       "      <td>NaN</td>\n",
       "      <td>NaN</td>\n",
       "      <td>NaN</td>\n",
       "    </tr>\n",
       "    <tr>\n",
       "      <th>2013-09-23</th>\n",
       "      <td>156.772095</td>\n",
       "      <td>157.500931</td>\n",
       "      <td>NaN</td>\n",
       "      <td>NaN</td>\n",
       "      <td>NaN</td>\n",
       "      <td>NaN</td>\n",
       "    </tr>\n",
       "    <tr>\n",
       "      <th>2013-09-24</th>\n",
       "      <td>156.403091</td>\n",
       "      <td>156.772095</td>\n",
       "      <td>157.500931</td>\n",
       "      <td>NaN</td>\n",
       "      <td>NaN</td>\n",
       "      <td>NaN</td>\n",
       "    </tr>\n",
       "    <tr>\n",
       "      <th>2013-09-25</th>\n",
       "      <td>155.951004</td>\n",
       "      <td>156.403091</td>\n",
       "      <td>156.772095</td>\n",
       "      <td>157.500931</td>\n",
       "      <td>NaN</td>\n",
       "      <td>NaN</td>\n",
       "    </tr>\n",
       "    <tr>\n",
       "      <th>2013-09-26</th>\n",
       "      <td>156.550705</td>\n",
       "      <td>155.951004</td>\n",
       "      <td>156.403091</td>\n",
       "      <td>156.772095</td>\n",
       "      <td>157.500931</td>\n",
       "      <td>NaN</td>\n",
       "    </tr>\n",
       "  </tbody>\n",
       "</table>\n",
       "</div>"
      ],
      "text/plain": [
       "                    yt        yt_1        yt_2        yt_3        yt_4  yt5\n",
       "Date                                                                       \n",
       "2013-09-20  157.500931         NaN         NaN         NaN         NaN  NaN\n",
       "2013-09-23  156.772095  157.500931         NaN         NaN         NaN  NaN\n",
       "2013-09-24  156.403091  156.772095  157.500931         NaN         NaN  NaN\n",
       "2013-09-25  155.951004  156.403091  156.772095  157.500931         NaN  NaN\n",
       "2013-09-26  156.550705  155.951004  156.403091  156.772095  157.500931  NaN"
      ]
     },
     "execution_count": 37,
     "metadata": {},
     "output_type": "execute_result"
    }
   ],
   "source": [
    "d1.head()"
   ]
  },
  {
   "cell_type": "code",
   "execution_count": 38,
   "metadata": {
    "collapsed": true
   },
   "outputs": [],
   "source": [
    "d1 = d1.dropna()"
   ]
  },
  {
   "cell_type": "code",
   "execution_count": 39,
   "metadata": {
    "collapsed": true
   },
   "outputs": [],
   "source": [
    "y = d1['yt']"
   ]
  },
  {
   "cell_type": "code",
   "execution_count": 40,
   "metadata": {
    "collapsed": true
   },
   "outputs": [],
   "source": [
    "cols = ['yt_1','yt_2','yt_3','yt_4','yt5']"
   ]
  },
  {
   "cell_type": "code",
   "execution_count": 41,
   "metadata": {
    "collapsed": true
   },
   "outputs": [],
   "source": [
    "x = d1[cols]"
   ]
  },
  {
   "cell_type": "code",
   "execution_count": 42,
   "metadata": {},
   "outputs": [
    {
     "data": {
      "text/html": [
       "<div>\n",
       "<style>\n",
       "    .dataframe thead tr:only-child th {\n",
       "        text-align: right;\n",
       "    }\n",
       "\n",
       "    .dataframe thead th {\n",
       "        text-align: left;\n",
       "    }\n",
       "\n",
       "    .dataframe tbody tr th {\n",
       "        vertical-align: top;\n",
       "    }\n",
       "</style>\n",
       "<table border=\"1\" class=\"dataframe\">\n",
       "  <thead>\n",
       "    <tr style=\"text-align: right;\">\n",
       "      <th></th>\n",
       "      <th>yt_1</th>\n",
       "      <th>yt_2</th>\n",
       "      <th>yt_3</th>\n",
       "      <th>yt_4</th>\n",
       "      <th>yt5</th>\n",
       "    </tr>\n",
       "    <tr>\n",
       "      <th>Date</th>\n",
       "      <th></th>\n",
       "      <th></th>\n",
       "      <th></th>\n",
       "      <th></th>\n",
       "      <th></th>\n",
       "    </tr>\n",
       "  </thead>\n",
       "  <tbody>\n",
       "    <tr>\n",
       "      <th>2013-09-27</th>\n",
       "      <td>156.550705</td>\n",
       "      <td>155.951004</td>\n",
       "      <td>156.403091</td>\n",
       "      <td>156.772095</td>\n",
       "      <td>157.500931</td>\n",
       "    </tr>\n",
       "    <tr>\n",
       "      <th>2013-09-30</th>\n",
       "      <td>155.831100</td>\n",
       "      <td>156.550705</td>\n",
       "      <td>155.951004</td>\n",
       "      <td>156.403091</td>\n",
       "      <td>156.772095</td>\n",
       "    </tr>\n",
       "    <tr>\n",
       "      <th>2013-10-01</th>\n",
       "      <td>155.000748</td>\n",
       "      <td>155.831100</td>\n",
       "      <td>156.550705</td>\n",
       "      <td>155.951004</td>\n",
       "      <td>156.403091</td>\n",
       "    </tr>\n",
       "    <tr>\n",
       "      <th>2013-10-02</th>\n",
       "      <td>156.227814</td>\n",
       "      <td>155.000748</td>\n",
       "      <td>155.831100</td>\n",
       "      <td>156.550705</td>\n",
       "      <td>155.951004</td>\n",
       "    </tr>\n",
       "    <tr>\n",
       "      <th>2013-10-03</th>\n",
       "      <td>156.080200</td>\n",
       "      <td>156.227814</td>\n",
       "      <td>155.000748</td>\n",
       "      <td>155.831100</td>\n",
       "      <td>156.550705</td>\n",
       "    </tr>\n",
       "  </tbody>\n",
       "</table>\n",
       "</div>"
      ],
      "text/plain": [
       "                  yt_1        yt_2        yt_3        yt_4         yt5\n",
       "Date                                                                  \n",
       "2013-09-27  156.550705  155.951004  156.403091  156.772095  157.500931\n",
       "2013-09-30  155.831100  156.550705  155.951004  156.403091  156.772095\n",
       "2013-10-01  155.000748  155.831100  156.550705  155.951004  156.403091\n",
       "2013-10-02  156.227814  155.000748  155.831100  156.550705  155.951004\n",
       "2013-10-03  156.080200  156.227814  155.000748  155.831100  156.550705"
      ]
     },
     "execution_count": 42,
     "metadata": {},
     "output_type": "execute_result"
    }
   ],
   "source": [
    "x.head()"
   ]
  },
  {
   "cell_type": "code",
   "execution_count": 43,
   "metadata": {
    "collapsed": true
   },
   "outputs": [],
   "source": [
    "scaler_x = preprocessing.MinMaxScaler(feature_range=(-1, 1))"
   ]
  },
  {
   "cell_type": "code",
   "execution_count": 44,
   "metadata": {
    "collapsed": true
   },
   "outputs": [],
   "source": [
    "x = np.array(x).reshape((len(x), 5))"
   ]
  },
  {
   "cell_type": "code",
   "execution_count": 45,
   "metadata": {
    "collapsed": true
   },
   "outputs": [],
   "source": [
    "x = scaler_x.fit_transform(x)"
   ]
  },
  {
   "cell_type": "code",
   "execution_count": 46,
   "metadata": {
    "collapsed": true
   },
   "outputs": [],
   "source": [
    "scaler_y = preprocessing.MinMaxScaler(feature_range=(-1, 1))"
   ]
  },
  {
   "cell_type": "code",
   "execution_count": 47,
   "metadata": {
    "collapsed": true
   },
   "outputs": [],
   "source": [
    "y = np.array(y).reshape((len(y), 1))"
   ]
  },
  {
   "cell_type": "code",
   "execution_count": 48,
   "metadata": {
    "collapsed": true
   },
   "outputs": [],
   "source": [
    "y = scaler_y.fit_transform(y)"
   ]
  },
  {
   "cell_type": "code",
   "execution_count": 49,
   "metadata": {},
   "outputs": [
    {
     "data": {
      "text/plain": [
       "1002"
      ]
     },
     "execution_count": 49,
     "metadata": {},
     "output_type": "execute_result"
    }
   ],
   "source": [
    "len(d1)"
   ]
  },
  {
   "cell_type": "code",
   "execution_count": 50,
   "metadata": {},
   "outputs": [
    {
     "data": {
      "text/plain": [
       "1002"
      ]
     },
     "execution_count": 50,
     "metadata": {},
     "output_type": "execute_result"
    }
   ],
   "source": [
    "len(x)"
   ]
  },
  {
   "cell_type": "code",
   "execution_count": 51,
   "metadata": {},
   "outputs": [
    {
     "data": {
      "text/plain": [
       "951.9"
      ]
     },
     "execution_count": 51,
     "metadata": {},
     "output_type": "execute_result"
    }
   ],
   "source": [
    "1002 * .95"
   ]
  },
  {
   "cell_type": "code",
   "execution_count": 52,
   "metadata": {
    "collapsed": true
   },
   "outputs": [],
   "source": [
    "train_end = 952"
   ]
  },
  {
   "cell_type": "code",
   "execution_count": 53,
   "metadata": {
    "collapsed": true
   },
   "outputs": [],
   "source": [
    "x_train = x[0:train_end,]"
   ]
  },
  {
   "cell_type": "code",
   "execution_count": 54,
   "metadata": {
    "collapsed": true
   },
   "outputs": [],
   "source": [
    "x_test = x[train_end+1:1002,]"
   ]
  },
  {
   "cell_type": "code",
   "execution_count": 55,
   "metadata": {
    "collapsed": true
   },
   "outputs": [],
   "source": [
    "y_train = y[0:train_end]"
   ]
  },
  {
   "cell_type": "code",
   "execution_count": 56,
   "metadata": {
    "collapsed": true
   },
   "outputs": [],
   "source": [
    "y_test = y[train_end+1:1002]"
   ]
  },
  {
   "cell_type": "code",
   "execution_count": 57,
   "metadata": {
    "collapsed": true
   },
   "outputs": [],
   "source": [
    "x_train = x_train.reshape(x_train.shape + (1,))"
   ]
  },
  {
   "cell_type": "code",
   "execution_count": 58,
   "metadata": {
    "collapsed": true
   },
   "outputs": [],
   "source": [
    "x_test = x_test.reshape(x_test.shape + (1,))"
   ]
  },
  {
   "cell_type": "code",
   "execution_count": 59,
   "metadata": {
    "collapsed": true
   },
   "outputs": [],
   "source": [
    "seed=2016"
   ]
  },
  {
   "cell_type": "code",
   "execution_count": 60,
   "metadata": {
    "collapsed": true
   },
   "outputs": [],
   "source": [
    "np.random.seed(seed)"
   ]
  },
  {
   "cell_type": "code",
   "execution_count": 61,
   "metadata": {
    "collapsed": true
   },
   "outputs": [],
   "source": [
    "fit1 = Sequential()"
   ]
  },
  {
   "cell_type": "code",
   "execution_count": 62,
   "metadata": {},
   "outputs": [
    {
     "name": "stderr",
     "output_type": "stream",
     "text": [
      "/usr/local/lib/python3.5/dist-packages/ipykernel_launcher.py:1: UserWarning: Update your `LSTM` call to the Keras 2 API: `LSTM(units=4, batch_input_shape=(1, 5, 1), stateful=True, recurrent_activation=\"hard_sigmoid\", activation=\"tanh\")`\n",
      "  \"\"\"Entry point for launching an IPython kernel.\n"
     ]
    }
   ],
   "source": [
    "fit1.add(LSTM(units=4, stateful=True, batch_input_shape=(1,5,1), activation='tanh', inner_activation='hard_sigmoid'))"
   ]
  },
  {
   "cell_type": "code",
   "execution_count": 63,
   "metadata": {
    "collapsed": true
   },
   "outputs": [],
   "source": [
    "fit1.add(Dense(units=1, activation='linear'))"
   ]
  },
  {
   "cell_type": "code",
   "execution_count": 64,
   "metadata": {
    "collapsed": true
   },
   "outputs": [],
   "source": [
    "fit1.compile(loss='mean_squared_error', optimizer='rmsprop')"
   ]
  },
  {
   "cell_type": "code",
   "execution_count": 65,
   "metadata": {
    "collapsed": true
   },
   "outputs": [],
   "source": [
    "end_point = len(x_train)"
   ]
  },
  {
   "cell_type": "code",
   "execution_count": 66,
   "metadata": {
    "collapsed": true
   },
   "outputs": [],
   "source": [
    "start_point = end_point-100"
   ]
  },
  {
   "cell_type": "code",
   "execution_count": 68,
   "metadata": {},
   "outputs": [
    {
     "name": "stdout",
     "output_type": "stream",
     "text": [
      "Fitting example  0\n",
      "Epoch 1/1\n",
      "0s - loss: 0.0025\n",
      "Fitting example  1\n",
      "Epoch 1/1\n",
      "0s - loss: 0.0027\n",
      "Fitting example  2\n",
      "Epoch 1/1\n",
      "0s - loss: 0.0029\n",
      "Fitting example  3\n",
      "Epoch 1/1\n",
      "0s - loss: 0.0026\n",
      "Fitting example  4\n",
      "Epoch 1/1\n",
      "0s - loss: 0.0022\n",
      "Fitting example  5\n",
      "Epoch 1/1\n",
      "0s - loss: 0.0023\n",
      "Fitting example  6\n",
      "Epoch 1/1\n",
      "0s - loss: 0.0023\n",
      "Fitting example  7\n",
      "Epoch 1/1\n",
      "0s - loss: 0.0020\n",
      "Fitting example  8\n",
      "Epoch 1/1\n",
      "0s - loss: 0.0020\n",
      "Fitting example  9\n",
      "Epoch 1/1\n",
      "0s - loss: 0.0020\n",
      "Fitting example  10\n",
      "Epoch 1/1\n",
      "0s - loss: 0.0017\n",
      "Fitting example  11\n",
      "Epoch 1/1\n",
      "0s - loss: 0.0019\n",
      "Fitting example  12\n",
      "Epoch 1/1\n",
      "0s - loss: 0.0020\n",
      "Fitting example  13\n",
      "Epoch 1/1\n",
      "0s - loss: 0.0018\n",
      "Fitting example  14\n",
      "Epoch 1/1\n",
      "0s - loss: 0.0016\n",
      "Fitting example  15\n",
      "Epoch 1/1\n",
      "0s - loss: 0.0017\n",
      "Fitting example  16\n",
      "Epoch 1/1\n",
      "0s - loss: 0.0017\n",
      "Fitting example  17\n",
      "Epoch 1/1\n",
      "0s - loss: 0.0019\n",
      "Fitting example  18\n",
      "Epoch 1/1\n",
      "0s - loss: 0.0015\n",
      "Fitting example  19\n",
      "Epoch 1/1\n",
      "0s - loss: 0.0018\n",
      "Fitting example  20\n",
      "Epoch 1/1\n",
      "0s - loss: 0.0016\n",
      "Fitting example  21\n",
      "Epoch 1/1\n",
      "0s - loss: 0.0017\n",
      "Fitting example  22\n",
      "Epoch 1/1\n",
      "0s - loss: 0.0015\n",
      "Fitting example  23\n",
      "Epoch 1/1\n",
      "0s - loss: 0.0015\n",
      "Fitting example  24\n",
      "Epoch 1/1\n",
      "0s - loss: 0.0014\n",
      "Fitting example  25\n",
      "Epoch 1/1\n",
      "0s - loss: 0.0016\n",
      "Fitting example  26\n",
      "Epoch 1/1\n",
      "0s - loss: 0.0016\n",
      "Fitting example  27\n",
      "Epoch 1/1\n",
      "0s - loss: 0.0013\n",
      "Fitting example  28\n",
      "Epoch 1/1\n",
      "0s - loss: 0.0016\n",
      "Fitting example  29\n",
      "Epoch 1/1\n",
      "0s - loss: 0.0014\n",
      "Fitting example  30\n",
      "Epoch 1/1\n",
      "0s - loss: 0.0014\n",
      "Fitting example  31\n",
      "Epoch 1/1\n",
      "0s - loss: 0.0014\n",
      "Fitting example  32\n",
      "Epoch 1/1\n",
      "0s - loss: 0.0014\n",
      "Fitting example  33\n",
      "Epoch 1/1\n",
      "0s - loss: 0.0014\n",
      "Fitting example  34\n",
      "Epoch 1/1\n",
      "0s - loss: 0.0015\n",
      "Fitting example  35\n",
      "Epoch 1/1\n",
      "0s - loss: 0.0014\n",
      "Fitting example  36\n",
      "Epoch 1/1\n",
      "0s - loss: 0.0014\n",
      "Fitting example  37\n",
      "Epoch 1/1\n",
      "0s - loss: 0.0011\n",
      "Fitting example  38\n",
      "Epoch 1/1\n",
      "0s - loss: 0.0014\n",
      "Fitting example  39\n",
      "Epoch 1/1\n",
      "0s - loss: 0.0016\n",
      "Fitting example  40\n",
      "Epoch 1/1\n",
      "0s - loss: 0.0014\n",
      "Fitting example  41\n",
      "Epoch 1/1\n",
      "0s - loss: 0.0012\n",
      "Fitting example  42\n",
      "Epoch 1/1\n",
      "0s - loss: 0.0014\n",
      "Fitting example  43\n",
      "Epoch 1/1\n",
      "0s - loss: 0.0013\n",
      "Fitting example  44\n",
      "Epoch 1/1\n",
      "0s - loss: 0.0012\n",
      "Fitting example  45\n",
      "Epoch 1/1\n",
      "0s - loss: 0.0015\n",
      "Fitting example  46\n",
      "Epoch 1/1\n",
      "0s - loss: 0.0014\n",
      "Fitting example  47\n",
      "Epoch 1/1\n",
      "0s - loss: 0.0013\n",
      "Fitting example  48\n",
      "Epoch 1/1\n",
      "0s - loss: 0.0013\n",
      "Fitting example  49\n",
      "Epoch 1/1\n",
      "0s - loss: 0.0011\n",
      "Fitting example  50\n",
      "Epoch 1/1\n",
      "0s - loss: 0.0013\n",
      "Fitting example  51\n",
      "Epoch 1/1\n",
      "0s - loss: 0.0012\n",
      "Fitting example  52\n",
      "Epoch 1/1\n",
      "0s - loss: 0.0012\n",
      "Fitting example  53\n",
      "Epoch 1/1\n",
      "0s - loss: 0.0012\n",
      "Fitting example  54\n",
      "Epoch 1/1\n",
      "0s - loss: 0.0013\n",
      "Fitting example  55\n",
      "Epoch 1/1\n",
      "0s - loss: 0.0012\n",
      "Fitting example  56\n",
      "Epoch 1/1\n",
      "0s - loss: 0.0013\n",
      "Fitting example  57\n",
      "Epoch 1/1\n",
      "0s - loss: 0.0012\n",
      "Fitting example  58\n",
      "Epoch 1/1\n",
      "0s - loss: 0.0012\n",
      "Fitting example  59\n",
      "Epoch 1/1\n",
      "0s - loss: 0.0013\n",
      "Fitting example  60\n",
      "Epoch 1/1\n",
      "0s - loss: 0.0013\n",
      "Fitting example  61\n",
      "Epoch 1/1\n",
      "0s - loss: 0.0012\n",
      "Fitting example  62\n",
      "Epoch 1/1\n",
      "0s - loss: 0.0012\n",
      "Fitting example  63\n",
      "Epoch 1/1\n",
      "0s - loss: 0.0011\n",
      "Fitting example  64\n",
      "Epoch 1/1\n",
      "0s - loss: 0.0012\n",
      "Fitting example  65\n",
      "Epoch 1/1\n",
      "0s - loss: 0.0011\n",
      "Fitting example  66\n",
      "Epoch 1/1\n",
      "0s - loss: 0.0011\n",
      "Fitting example  67\n",
      "Epoch 1/1\n",
      "0s - loss: 0.0011\n",
      "Fitting example  68\n",
      "Epoch 1/1\n",
      "0s - loss: 0.0011\n",
      "Fitting example  69\n",
      "Epoch 1/1\n",
      "0s - loss: 0.0011\n",
      "Fitting example  70\n",
      "Epoch 1/1\n",
      "0s - loss: 0.0011\n",
      "Fitting example  71\n",
      "Epoch 1/1\n",
      "0s - loss: 0.0011\n",
      "Fitting example  72\n",
      "Epoch 1/1\n",
      "0s - loss: 9.9547e-04\n",
      "Fitting example  73\n",
      "Epoch 1/1\n",
      "0s - loss: 0.0010\n",
      "Fitting example  74\n",
      "Epoch 1/1\n",
      "0s - loss: 0.0011\n",
      "Fitting example  75\n",
      "Epoch 1/1\n",
      "0s - loss: 9.9136e-04\n",
      "Fitting example  76\n",
      "Epoch 1/1\n",
      "0s - loss: 0.0010\n",
      "Fitting example  77\n",
      "Epoch 1/1\n",
      "0s - loss: 9.0859e-04\n",
      "Fitting example  78\n",
      "Epoch 1/1\n",
      "0s - loss: 9.8918e-04\n",
      "Fitting example  79\n",
      "Epoch 1/1\n",
      "0s - loss: 9.5502e-04\n",
      "Fitting example  80\n",
      "Epoch 1/1\n",
      "0s - loss: 9.0610e-04\n",
      "Fitting example  81\n",
      "Epoch 1/1\n",
      "0s - loss: 9.3278e-04\n",
      "Fitting example  82\n",
      "Epoch 1/1\n",
      "0s - loss: 9.7525e-04\n",
      "Fitting example  83\n",
      "Epoch 1/1\n",
      "0s - loss: 9.3830e-04\n",
      "Fitting example  84\n",
      "Epoch 1/1\n",
      "0s - loss: 9.7220e-04\n",
      "Fitting example  85\n",
      "Epoch 1/1\n",
      "0s - loss: 9.2444e-04\n",
      "Fitting example  86\n",
      "Epoch 1/1\n",
      "0s - loss: 9.5379e-04\n",
      "Fitting example  87\n",
      "Epoch 1/1\n",
      "0s - loss: 8.6439e-04\n",
      "Fitting example  88\n",
      "Epoch 1/1\n",
      "0s - loss: 9.4557e-04\n",
      "Fitting example  89\n",
      "Epoch 1/1\n",
      "0s - loss: 8.3585e-04\n",
      "Fitting example  90\n",
      "Epoch 1/1\n",
      "0s - loss: 8.2078e-04\n",
      "Fitting example  91\n",
      "Epoch 1/1\n",
      "0s - loss: 8.4703e-04\n",
      "Fitting example  92\n",
      "Epoch 1/1\n",
      "0s - loss: 9.1299e-04\n",
      "Fitting example  93\n",
      "Epoch 1/1\n",
      "0s - loss: 8.3572e-04\n",
      "Fitting example  94\n",
      "Epoch 1/1\n",
      "0s - loss: 8.4475e-04\n",
      "Fitting example  95\n",
      "Epoch 1/1\n",
      "0s - loss: 8.0191e-04\n",
      "Fitting example  96\n",
      "Epoch 1/1\n",
      "0s - loss: 7.9466e-04\n",
      "Fitting example  97\n",
      "Epoch 1/1\n",
      "0s - loss: 7.8885e-04\n",
      "Fitting example  98\n",
      "Epoch 1/1\n",
      "0s - loss: 7.9671e-04\n",
      "Fitting example  99\n",
      "Epoch 1/1\n",
      "0s - loss: 8.5823e-04\n"
     ]
    }
   ],
   "source": [
    "for i in range(len(x_train[start_point:end_point])):\n",
    "    print('Fitting example ', i)\n",
    "    fit1.fit(x_train[start_point:end_point], y_train[start_point:end_point], epochs=1, batch_size=1, verbose=2, shuffle=True)\n",
    "    fit1.reset_states()"
   ]
  },
  {
   "cell_type": "code",
   "execution_count": 69,
   "metadata": {
    "collapsed": true
   },
   "outputs": [],
   "source": [
    "pred1 = fit1.predict(x_test, batch_size=1)"
   ]
  },
  {
   "cell_type": "code",
   "execution_count": 70,
   "metadata": {
    "collapsed": true
   },
   "outputs": [],
   "source": [
    "pred1 = scaler_y.inverse_transform(np.array(pred1).reshape((len(pred1), 1)))"
   ]
  },
  {
   "cell_type": "code",
   "execution_count": 71,
   "metadata": {
    "collapsed": true
   },
   "outputs": [],
   "source": [
    "pred1 = np.ndarray.flatten(pred1)"
   ]
  },
  {
   "cell_type": "code",
   "execution_count": 72,
   "metadata": {
    "collapsed": true
   },
   "outputs": [],
   "source": [
    "pred1 = pd.Series(pred1)"
   ]
  },
  {
   "cell_type": "code",
   "execution_count": 73,
   "metadata": {
    "collapsed": true
   },
   "outputs": [],
   "source": [
    "data['prediction'] = np.nan"
   ]
  },
  {
   "cell_type": "code",
   "execution_count": 74,
   "metadata": {},
   "outputs": [
    {
     "data": {
      "text/plain": [
       "1007"
      ]
     },
     "execution_count": 74,
     "metadata": {},
     "output_type": "execute_result"
    }
   ],
   "source": [
    "len(data)"
   ]
  },
  {
   "cell_type": "code",
   "execution_count": 75,
   "metadata": {},
   "outputs": [
    {
     "data": {
      "text/plain": [
       "49"
      ]
     },
     "execution_count": 75,
     "metadata": {},
     "output_type": "execute_result"
    }
   ],
   "source": [
    "len(pred1)"
   ]
  },
  {
   "cell_type": "code",
   "execution_count": 76,
   "metadata": {
    "collapsed": true
   },
   "outputs": [],
   "source": [
    "data['prediction'][958:] = pred1"
   ]
  },
  {
   "cell_type": "code",
   "execution_count": 77,
   "metadata": {},
   "outputs": [
    {
     "ename": "NameError",
     "evalue": "name 'df2' is not defined",
     "output_type": "error",
     "traceback": [
      "\u001b[0;31m---------------------------------------------------------------------------\u001b[0m",
      "\u001b[0;31mNameError\u001b[0m                                 Traceback (most recent call last)",
      "\u001b[0;32m<ipython-input-77-70724c53b862>\u001b[0m in \u001b[0;36m<module>\u001b[0;34m()\u001b[0m\n\u001b[0;32m----> 1\u001b[0;31m \u001b[0mdf2\u001b[0m\u001b[0;34m.\u001b[0m\u001b[0mtail\u001b[0m\u001b[0;34m(\u001b[0m\u001b[0;34m)\u001b[0m\u001b[0;34m\u001b[0m\u001b[0m\n\u001b[0m",
      "\u001b[0;31mNameError\u001b[0m: name 'df2' is not defined"
     ]
    }
   ],
   "source": [
    "df2.tail()"
   ]
  },
  {
   "cell_type": "code",
   "execution_count": 78,
   "metadata": {},
   "outputs": [
    {
     "data": {
      "text/html": [
       "<div>\n",
       "<style>\n",
       "    .dataframe thead tr:only-child th {\n",
       "        text-align: right;\n",
       "    }\n",
       "\n",
       "    .dataframe thead th {\n",
       "        text-align: left;\n",
       "    }\n",
       "\n",
       "    .dataframe tbody tr th {\n",
       "        vertical-align: top;\n",
       "    }\n",
       "</style>\n",
       "<table border=\"1\" class=\"dataframe\">\n",
       "  <thead>\n",
       "    <tr style=\"text-align: right;\">\n",
       "      <th></th>\n",
       "      <th>SPY</th>\n",
       "      <th>prediction</th>\n",
       "    </tr>\n",
       "    <tr>\n",
       "      <th>Date</th>\n",
       "      <th></th>\n",
       "      <th></th>\n",
       "    </tr>\n",
       "  </thead>\n",
       "  <tbody>\n",
       "    <tr>\n",
       "      <th>2017-09-13</th>\n",
       "      <td>248.934601</td>\n",
       "      <td>245.336594</td>\n",
       "    </tr>\n",
       "    <tr>\n",
       "      <th>2017-09-14</th>\n",
       "      <td>248.854996</td>\n",
       "      <td>246.193512</td>\n",
       "    </tr>\n",
       "    <tr>\n",
       "      <th>2017-09-15</th>\n",
       "      <td>249.190002</td>\n",
       "      <td>246.522125</td>\n",
       "    </tr>\n",
       "    <tr>\n",
       "      <th>2017-09-18</th>\n",
       "      <td>249.720001</td>\n",
       "      <td>246.524307</td>\n",
       "    </tr>\n",
       "    <tr>\n",
       "      <th>2017-09-19</th>\n",
       "      <td>249.970001</td>\n",
       "      <td>246.952530</td>\n",
       "    </tr>\n",
       "  </tbody>\n",
       "</table>\n",
       "</div>"
      ],
      "text/plain": [
       "                   SPY  prediction\n",
       "Date                              \n",
       "2017-09-13  248.934601  245.336594\n",
       "2017-09-14  248.854996  246.193512\n",
       "2017-09-15  249.190002  246.522125\n",
       "2017-09-18  249.720001  246.524307\n",
       "2017-09-19  249.970001  246.952530"
      ]
     },
     "execution_count": 78,
     "metadata": {},
     "output_type": "execute_result"
    }
   ],
   "source": [
    "data.tail()"
   ]
  },
  {
   "cell_type": "code",
   "execution_count": 79,
   "metadata": {},
   "outputs": [
    {
     "data": {
      "text/html": [
       "<div>\n",
       "<style>\n",
       "    .dataframe thead tr:only-child th {\n",
       "        text-align: right;\n",
       "    }\n",
       "\n",
       "    .dataframe thead th {\n",
       "        text-align: left;\n",
       "    }\n",
       "\n",
       "    .dataframe tbody tr th {\n",
       "        vertical-align: top;\n",
       "    }\n",
       "</style>\n",
       "<table border=\"1\" class=\"dataframe\">\n",
       "  <thead>\n",
       "    <tr style=\"text-align: right;\">\n",
       "      <th></th>\n",
       "      <th>SPY</th>\n",
       "      <th>prediction</th>\n",
       "    </tr>\n",
       "    <tr>\n",
       "      <th>Date</th>\n",
       "      <th></th>\n",
       "      <th></th>\n",
       "    </tr>\n",
       "  </thead>\n",
       "  <tbody>\n",
       "    <tr>\n",
       "      <th>2013-09-20</th>\n",
       "      <td>157.500931</td>\n",
       "      <td>NaN</td>\n",
       "    </tr>\n",
       "    <tr>\n",
       "      <th>2013-09-23</th>\n",
       "      <td>156.772095</td>\n",
       "      <td>NaN</td>\n",
       "    </tr>\n",
       "    <tr>\n",
       "      <th>2013-09-24</th>\n",
       "      <td>156.403091</td>\n",
       "      <td>NaN</td>\n",
       "    </tr>\n",
       "    <tr>\n",
       "      <th>2013-09-25</th>\n",
       "      <td>155.951004</td>\n",
       "      <td>NaN</td>\n",
       "    </tr>\n",
       "    <tr>\n",
       "      <th>2013-09-26</th>\n",
       "      <td>156.550705</td>\n",
       "      <td>NaN</td>\n",
       "    </tr>\n",
       "  </tbody>\n",
       "</table>\n",
       "</div>"
      ],
      "text/plain": [
       "                   SPY  prediction\n",
       "Date                              \n",
       "2013-09-20  157.500931         NaN\n",
       "2013-09-23  156.772095         NaN\n",
       "2013-09-24  156.403091         NaN\n",
       "2013-09-25  155.951004         NaN\n",
       "2013-09-26  156.550705         NaN"
      ]
     },
     "execution_count": 79,
     "metadata": {},
     "output_type": "execute_result"
    }
   ],
   "source": [
    "data.head()"
   ]
  },
  {
   "cell_type": "code",
   "execution_count": 83,
   "metadata": {},
   "outputs": [
    {
     "data": {
      "text/plain": [
       "<matplotlib.axes._subplots.AxesSubplot at 0x7f120d4a3ba8>"
      ]
     },
     "execution_count": 83,
     "metadata": {},
     "output_type": "execute_result"
    }
   ],
   "source": [
    "data.plot(figsize=(9,9))"
   ]
  },
  {
   "cell_type": "code",
   "execution_count": 84,
   "metadata": {},
   "outputs": [
    {
     "data": {
      "image/png": "[encoded data removed]",
      "text/plain": [
       "<matplotlib.figure.Figure at 0x7f120d430208>"
      ]
     },
     "metadata": {},
     "output_type": "display_data"
    }
   ],
   "source": [
    "plt.show()"
   ]
  },
  {
   "cell_type": "code",
   "execution_count": null,
   "metadata": {
    "collapsed": true
   },
   "outputs": [],
   "source": []
  }
 ],
 "metadata": {
  "kernelspec": {
   "display_name": "Python 3",
   "language": "python",
   "name": "python3"
  },
  "language_info": {
   "codemirror_mode": {
    "name": "ipython",
    "version": 3
   },
   "file_extension": ".py",
   "mimetype": "text/x-python",
   "name": "python",
   "nbconvert_exporter": "python",
   "pygments_lexer": "ipython3",
   "version": "3.5.2"
  }
 },
 "nbformat": 4,
 "nbformat_minor": 2
}
