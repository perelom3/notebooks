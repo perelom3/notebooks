{
 "cells": [
  {
   "cell_type": "code",
   "execution_count": 1,
   "metadata": {},
   "outputs": [
    {
     "name": "stderr",
     "output_type": "stream",
     "text": [
      "Using Theano backend.\n"
     ]
    }
   ],
   "source": [
    "import pandas as pd\n",
    "import numpy as np\n",
    "import pandas_datareader as pdr\n",
    "import matplotlib.pyplot as plt\n",
    "from sklearn import preprocessing\n",
    "from keras.models import Sequential\n",
    "from keras.layers.core import Dense, Activation\n",
    "from keras.layers.recurrent import LSTM"
   ]
  },
  {
   "cell_type": "code",
   "execution_count": 1,
   "metadata": {
    "collapsed": true
   },
   "outputs": [],
   "source": [
    "import datetime as dt"
   ]
  },
  {
   "cell_type": "code",
   "execution_count": 3,
   "metadata": {
    "collapsed": true
   },
   "outputs": [],
   "source": [
    "start = dt.date(2013, 9, 20)"
   ]
  },
  {
   "cell_type": "code",
   "execution_count": 4,
   "metadata": {
    "collapsed": true
   },
   "outputs": [],
   "source": [
    "end = dt.date(2017, 9, 19)"
   ]
  },
  {
   "cell_type": "code",
   "execution_count": 5,
   "metadata": {
    "collapsed": true
   },
   "outputs": [],
   "source": [
    "spy = pdr.DataReader('SPY', 'yahoo', start, end)"
   ]
  },
  {
   "cell_type": "code",
   "execution_count": 6,
   "metadata": {},
   "outputs": [
    {
     "data": {
      "text/html": [
       "<div>\n",
       "<style>\n",
       "    .dataframe thead tr:only-child th {\n",
       "        text-align: right;\n",
       "    }\n",
       "\n",
       "    .dataframe thead th {\n",
       "        text-align: left;\n",
       "    }\n",
       "\n",
       "    .dataframe tbody tr th {\n",
       "        vertical-align: top;\n",
       "    }\n",
       "</style>\n",
       "<table border=\"1\" class=\"dataframe\">\n",
       "  <thead>\n",
       "    <tr style=\"text-align: right;\">\n",
       "      <th></th>\n",
       "      <th>Open</th>\n",
       "      <th>High</th>\n",
       "      <th>Low</th>\n",
       "      <th>Close</th>\n",
       "      <th>Adj Close</th>\n",
       "      <th>Volume</th>\n",
       "    </tr>\n",
       "    <tr>\n",
       "      <th>Date</th>\n",
       "      <th></th>\n",
       "      <th></th>\n",
       "      <th></th>\n",
       "      <th></th>\n",
       "      <th></th>\n",
       "      <th></th>\n",
       "    </tr>\n",
       "  </thead>\n",
       "  <tbody>\n",
       "    <tr>\n",
       "      <th>2013-09-20</th>\n",
       "      <td>172.330002</td>\n",
       "      <td>172.330002</td>\n",
       "      <td>170.580002</td>\n",
       "      <td>170.720001</td>\n",
       "      <td>157.500931</td>\n",
       "      <td>132867100</td>\n",
       "    </tr>\n",
       "    <tr>\n",
       "      <th>2013-09-23</th>\n",
       "      <td>170.490005</td>\n",
       "      <td>170.649994</td>\n",
       "      <td>169.389999</td>\n",
       "      <td>169.929993</td>\n",
       "      <td>156.772095</td>\n",
       "      <td>104616500</td>\n",
       "    </tr>\n",
       "    <tr>\n",
       "      <th>2013-09-24</th>\n",
       "      <td>169.899994</td>\n",
       "      <td>170.529999</td>\n",
       "      <td>169.210007</td>\n",
       "      <td>169.529999</td>\n",
       "      <td>156.403091</td>\n",
       "      <td>106333100</td>\n",
       "    </tr>\n",
       "    <tr>\n",
       "      <th>2013-09-25</th>\n",
       "      <td>169.639999</td>\n",
       "      <td>169.979996</td>\n",
       "      <td>168.889999</td>\n",
       "      <td>169.039993</td>\n",
       "      <td>155.951004</td>\n",
       "      <td>117306500</td>\n",
       "    </tr>\n",
       "    <tr>\n",
       "      <th>2013-09-26</th>\n",
       "      <td>169.320007</td>\n",
       "      <td>170.169998</td>\n",
       "      <td>169.050003</td>\n",
       "      <td>169.690002</td>\n",
       "      <td>156.550705</td>\n",
       "      <td>77146900</td>\n",
       "    </tr>\n",
       "  </tbody>\n",
       "</table>\n",
       "</div>"
      ],
      "text/plain": [
       "                  Open        High         Low       Close   Adj Close  \\\n",
       "Date                                                                     \n",
       "2013-09-20  172.330002  172.330002  170.580002  170.720001  157.500931   \n",
       "2013-09-23  170.490005  170.649994  169.389999  169.929993  156.772095   \n",
       "2013-09-24  169.899994  170.529999  169.210007  169.529999  156.403091   \n",
       "2013-09-25  169.639999  169.979996  168.889999  169.039993  155.951004   \n",
       "2013-09-26  169.320007  170.169998  169.050003  169.690002  156.550705   \n",
       "\n",
       "               Volume  \n",
       "Date                   \n",
       "2013-09-20  132867100  \n",
       "2013-09-23  104616500  \n",
       "2013-09-24  106333100  \n",
       "2013-09-25  117306500  \n",
       "2013-09-26   77146900  "
      ]
     },
     "execution_count": 6,
     "metadata": {},
     "output_type": "execute_result"
    }
   ],
   "source": [
    "spy.head()"
   ]
  },
  {
   "cell_type": "code",
   "execution_count": 7,
   "metadata": {},
   "outputs": [
    {
     "data": {
      "text/html": [
       "<div>\n",
       "<style>\n",
       "    .dataframe thead tr:only-child th {\n",
       "        text-align: right;\n",
       "    }\n",
       "\n",
       "    .dataframe thead th {\n",
       "        text-align: left;\n",
       "    }\n",
       "\n",
       "    .dataframe tbody tr th {\n",
       "        vertical-align: top;\n",
       "    }\n",
       "</style>\n",
       "<table border=\"1\" class=\"dataframe\">\n",
       "  <thead>\n",
       "    <tr style=\"text-align: right;\">\n",
       "      <th></th>\n",
       "      <th>Open</th>\n",
       "      <th>High</th>\n",
       "      <th>Low</th>\n",
       "      <th>Close</th>\n",
       "      <th>Adj Close</th>\n",
       "      <th>Volume</th>\n",
       "    </tr>\n",
       "    <tr>\n",
       "      <th>Date</th>\n",
       "      <th></th>\n",
       "      <th></th>\n",
       "      <th></th>\n",
       "      <th></th>\n",
       "      <th></th>\n",
       "      <th></th>\n",
       "    </tr>\n",
       "  </thead>\n",
       "  <tbody>\n",
       "    <tr>\n",
       "      <th>2017-09-13</th>\n",
       "      <td>249.720001</td>\n",
       "      <td>250.210007</td>\n",
       "      <td>249.589996</td>\n",
       "      <td>250.169998</td>\n",
       "      <td>248.934601</td>\n",
       "      <td>59228000</td>\n",
       "    </tr>\n",
       "    <tr>\n",
       "      <th>2017-09-14</th>\n",
       "      <td>249.800003</td>\n",
       "      <td>250.320007</td>\n",
       "      <td>249.600006</td>\n",
       "      <td>250.089996</td>\n",
       "      <td>248.854996</td>\n",
       "      <td>95446300</td>\n",
       "    </tr>\n",
       "    <tr>\n",
       "      <th>2017-09-15</th>\n",
       "      <td>248.690002</td>\n",
       "      <td>249.289993</td>\n",
       "      <td>248.570007</td>\n",
       "      <td>249.190002</td>\n",
       "      <td>249.190002</td>\n",
       "      <td>95432400</td>\n",
       "    </tr>\n",
       "    <tr>\n",
       "      <th>2017-09-18</th>\n",
       "      <td>249.610001</td>\n",
       "      <td>250.119995</td>\n",
       "      <td>249.279999</td>\n",
       "      <td>249.720001</td>\n",
       "      <td>249.720001</td>\n",
       "      <td>46235200</td>\n",
       "    </tr>\n",
       "    <tr>\n",
       "      <th>2017-09-19</th>\n",
       "      <td>250.000000</td>\n",
       "      <td>250.070007</td>\n",
       "      <td>249.600006</td>\n",
       "      <td>249.970001</td>\n",
       "      <td>249.970001</td>\n",
       "      <td>47108100</td>\n",
       "    </tr>\n",
       "  </tbody>\n",
       "</table>\n",
       "</div>"
      ],
      "text/plain": [
       "                  Open        High         Low       Close   Adj Close  \\\n",
       "Date                                                                     \n",
       "2017-09-13  249.720001  250.210007  249.589996  250.169998  248.934601   \n",
       "2017-09-14  249.800003  250.320007  249.600006  250.089996  248.854996   \n",
       "2017-09-15  248.690002  249.289993  248.570007  249.190002  249.190002   \n",
       "2017-09-18  249.610001  250.119995  249.279999  249.720001  249.720001   \n",
       "2017-09-19  250.000000  250.070007  249.600006  249.970001  249.970001   \n",
       "\n",
       "              Volume  \n",
       "Date                  \n",
       "2017-09-13  59228000  \n",
       "2017-09-14  95446300  \n",
       "2017-09-15  95432400  \n",
       "2017-09-18  46235200  \n",
       "2017-09-19  47108100  "
      ]
     },
     "execution_count": 7,
     "metadata": {},
     "output_type": "execute_result"
    }
   ],
   "source": [
    "spy.tail()"
   ]
  },
  {
   "cell_type": "code",
   "execution_count": 8,
   "metadata": {
    "collapsed": true
   },
   "outputs": [],
   "source": [
    "data = spy.drop(['Open', 'High', 'Low', 'Close', 'Volume'], axis=1)"
   ]
  },
  {
   "cell_type": "code",
   "execution_count": 9,
   "metadata": {
    "collapsed": true
   },
   "outputs": [],
   "source": [
    "data = data.rename(columns={'Adj Close': 'SPY'})"
   ]
  },
  {
   "cell_type": "code",
   "execution_count": 10,
   "metadata": {},
   "outputs": [
    {
     "data": {
      "text/html": [
       "<div>\n",
       "<style>\n",
       "    .dataframe thead tr:only-child th {\n",
       "        text-align: right;\n",
       "    }\n",
       "\n",
       "    .dataframe thead th {\n",
       "        text-align: left;\n",
       "    }\n",
       "\n",
       "    .dataframe tbody tr th {\n",
       "        vertical-align: top;\n",
       "    }\n",
       "</style>\n",
       "<table border=\"1\" class=\"dataframe\">\n",
       "  <thead>\n",
       "    <tr style=\"text-align: right;\">\n",
       "      <th></th>\n",
       "      <th>SPY</th>\n",
       "    </tr>\n",
       "    <tr>\n",
       "      <th>Date</th>\n",
       "      <th></th>\n",
       "    </tr>\n",
       "  </thead>\n",
       "  <tbody>\n",
       "    <tr>\n",
       "      <th>2013-09-20</th>\n",
       "      <td>157.500931</td>\n",
       "    </tr>\n",
       "    <tr>\n",
       "      <th>2013-09-23</th>\n",
       "      <td>156.772095</td>\n",
       "    </tr>\n",
       "    <tr>\n",
       "      <th>2013-09-24</th>\n",
       "      <td>156.403091</td>\n",
       "    </tr>\n",
       "    <tr>\n",
       "      <th>2013-09-25</th>\n",
       "      <td>155.951004</td>\n",
       "    </tr>\n",
       "    <tr>\n",
       "      <th>2013-09-26</th>\n",
       "      <td>156.550705</td>\n",
       "    </tr>\n",
       "  </tbody>\n",
       "</table>\n",
       "</div>"
      ],
      "text/plain": [
       "                   SPY\n",
       "Date                  \n",
       "2013-09-20  157.500931\n",
       "2013-09-23  156.772095\n",
       "2013-09-24  156.403091\n",
       "2013-09-25  155.951004\n",
       "2013-09-26  156.550705"
      ]
     },
     "execution_count": 10,
     "metadata": {},
     "output_type": "execute_result"
    }
   ],
   "source": [
    "data.head()"
   ]
  },
  {
   "cell_type": "code",
   "execution_count": 11,
   "metadata": {},
   "outputs": [
    {
     "data": {
      "text/plain": [
       "pandas.core.frame.DataFrame"
      ]
     },
     "execution_count": 11,
     "metadata": {},
     "output_type": "execute_result"
    }
   ],
   "source": [
    "type(data)"
   ]
  },
  {
   "cell_type": "code",
   "execution_count": 12,
   "metadata": {
    "collapsed": true
   },
   "outputs": [],
   "source": [
    "yt_1 = data.shift(1)"
   ]
  },
  {
   "cell_type": "code",
   "execution_count": 13,
   "metadata": {
    "collapsed": true
   },
   "outputs": [],
   "source": [
    "yt_2 = data.shift(2)"
   ]
  },
  {
   "cell_type": "code",
   "execution_count": 14,
   "metadata": {
    "collapsed": true
   },
   "outputs": [],
   "source": [
    "yt_3 = data.shift(3)"
   ]
  },
  {
   "cell_type": "code",
   "execution_count": 15,
   "metadata": {
    "collapsed": true
   },
   "outputs": [],
   "source": [
    "yt_4 = data.shift(4)"
   ]
  },
  {
   "cell_type": "code",
   "execution_count": 16,
   "metadata": {
    "collapsed": true
   },
   "outputs": [],
   "source": [
    "yt_5 = data.shift(5)"
   ]
  },
  {
   "cell_type": "code",
   "execution_count": 17,
   "metadata": {
    "collapsed": true
   },
   "outputs": [],
   "source": [
    "d1 = pd.concat([data,yt_1,yt_2,yt_3,yt_4,yt_5], axis=1)"
   ]
  },
  {
   "cell_type": "code",
   "execution_count": 18,
   "metadata": {},
   "outputs": [
    {
     "data": {
      "text/html": [
       "<div>\n",
       "<style>\n",
       "    .dataframe thead tr:only-child th {\n",
       "        text-align: right;\n",
       "    }\n",
       "\n",
       "    .dataframe thead th {\n",
       "        text-align: left;\n",
       "    }\n",
       "\n",
       "    .dataframe tbody tr th {\n",
       "        vertical-align: top;\n",
       "    }\n",
       "</style>\n",
       "<table border=\"1\" class=\"dataframe\">\n",
       "  <thead>\n",
       "    <tr style=\"text-align: right;\">\n",
       "      <th></th>\n",
       "      <th>SPY</th>\n",
       "      <th>SPY</th>\n",
       "      <th>SPY</th>\n",
       "      <th>SPY</th>\n",
       "      <th>SPY</th>\n",
       "      <th>SPY</th>\n",
       "    </tr>\n",
       "    <tr>\n",
       "      <th>Date</th>\n",
       "      <th></th>\n",
       "      <th></th>\n",
       "      <th></th>\n",
       "      <th></th>\n",
       "      <th></th>\n",
       "      <th></th>\n",
       "    </tr>\n",
       "  </thead>\n",
       "  <tbody>\n",
       "    <tr>\n",
       "      <th>2013-09-20</th>\n",
       "      <td>157.500931</td>\n",
       "      <td>NaN</td>\n",
       "      <td>NaN</td>\n",
       "      <td>NaN</td>\n",
       "      <td>NaN</td>\n",
       "      <td>NaN</td>\n",
       "    </tr>\n",
       "    <tr>\n",
       "      <th>2013-09-23</th>\n",
       "      <td>156.772095</td>\n",
       "      <td>157.500931</td>\n",
       "      <td>NaN</td>\n",
       "      <td>NaN</td>\n",
       "      <td>NaN</td>\n",
       "      <td>NaN</td>\n",
       "    </tr>\n",
       "    <tr>\n",
       "      <th>2013-09-24</th>\n",
       "      <td>156.403091</td>\n",
       "      <td>156.772095</td>\n",
       "      <td>157.500931</td>\n",
       "      <td>NaN</td>\n",
       "      <td>NaN</td>\n",
       "      <td>NaN</td>\n",
       "    </tr>\n",
       "    <tr>\n",
       "      <th>2013-09-25</th>\n",
       "      <td>155.951004</td>\n",
       "      <td>156.403091</td>\n",
       "      <td>156.772095</td>\n",
       "      <td>157.500931</td>\n",
       "      <td>NaN</td>\n",
       "      <td>NaN</td>\n",
       "    </tr>\n",
       "    <tr>\n",
       "      <th>2013-09-26</th>\n",
       "      <td>156.550705</td>\n",
       "      <td>155.951004</td>\n",
       "      <td>156.403091</td>\n",
       "      <td>156.772095</td>\n",
       "      <td>157.500931</td>\n",
       "      <td>NaN</td>\n",
       "    </tr>\n",
       "  </tbody>\n",
       "</table>\n",
       "</div>"
      ],
      "text/plain": [
       "                   SPY         SPY         SPY         SPY         SPY  SPY\n",
       "Date                                                                       \n",
       "2013-09-20  157.500931         NaN         NaN         NaN         NaN  NaN\n",
       "2013-09-23  156.772095  157.500931         NaN         NaN         NaN  NaN\n",
       "2013-09-24  156.403091  156.772095  157.500931         NaN         NaN  NaN\n",
       "2013-09-25  155.951004  156.403091  156.772095  157.500931         NaN  NaN\n",
       "2013-09-26  156.550705  155.951004  156.403091  156.772095  157.500931  NaN"
      ]
     },
     "execution_count": 18,
     "metadata": {},
     "output_type": "execute_result"
    }
   ],
   "source": [
    "d1.head()"
   ]
  },
  {
   "cell_type": "code",
   "execution_count": 19,
   "metadata": {
    "collapsed": true
   },
   "outputs": [],
   "source": [
    "d1.columns = ['yt','yt_1','yt_2','yt_3','yt_4','yt5']"
   ]
  },
  {
   "cell_type": "code",
   "execution_count": 20,
   "metadata": {},
   "outputs": [
    {
     "data": {
      "text/html": [
       "<div>\n",
       "<style>\n",
       "    .dataframe thead tr:only-child th {\n",
       "        text-align: right;\n",
       "    }\n",
       "\n",
       "    .dataframe thead th {\n",
       "        text-align: left;\n",
       "    }\n",
       "\n",
       "    .dataframe tbody tr th {\n",
       "        vertical-align: top;\n",
       "    }\n",
       "</style>\n",
       "<table border=\"1\" class=\"dataframe\">\n",
       "  <thead>\n",
       "    <tr style=\"text-align: right;\">\n",
       "      <th></th>\n",
       "      <th>yt</th>\n",
       "      <th>yt_1</th>\n",
       "      <th>yt_2</th>\n",
       "      <th>yt_3</th>\n",
       "      <th>yt_4</th>\n",
       "      <th>yt5</th>\n",
       "    </tr>\n",
       "    <tr>\n",
       "      <th>Date</th>\n",
       "      <th></th>\n",
       "      <th></th>\n",
       "      <th></th>\n",
       "      <th></th>\n",
       "      <th></th>\n",
       "      <th></th>\n",
       "    </tr>\n",
       "  </thead>\n",
       "  <tbody>\n",
       "    <tr>\n",
       "      <th>2013-09-20</th>\n",
       "      <td>157.500931</td>\n",
       "      <td>NaN</td>\n",
       "      <td>NaN</td>\n",
       "      <td>NaN</td>\n",
       "      <td>NaN</td>\n",
       "      <td>NaN</td>\n",
       "    </tr>\n",
       "    <tr>\n",
       "      <th>2013-09-23</th>\n",
       "      <td>156.772095</td>\n",
       "      <td>157.500931</td>\n",
       "      <td>NaN</td>\n",
       "      <td>NaN</td>\n",
       "      <td>NaN</td>\n",
       "      <td>NaN</td>\n",
       "    </tr>\n",
       "    <tr>\n",
       "      <th>2013-09-24</th>\n",
       "      <td>156.403091</td>\n",
       "      <td>156.772095</td>\n",
       "      <td>157.500931</td>\n",
       "      <td>NaN</td>\n",
       "      <td>NaN</td>\n",
       "      <td>NaN</td>\n",
       "    </tr>\n",
       "    <tr>\n",
       "      <th>2013-09-25</th>\n",
       "      <td>155.951004</td>\n",
       "      <td>156.403091</td>\n",
       "      <td>156.772095</td>\n",
       "      <td>157.500931</td>\n",
       "      <td>NaN</td>\n",
       "      <td>NaN</td>\n",
       "    </tr>\n",
       "    <tr>\n",
       "      <th>2013-09-26</th>\n",
       "      <td>156.550705</td>\n",
       "      <td>155.951004</td>\n",
       "      <td>156.403091</td>\n",
       "      <td>156.772095</td>\n",
       "      <td>157.500931</td>\n",
       "      <td>NaN</td>\n",
       "    </tr>\n",
       "  </tbody>\n",
       "</table>\n",
       "</div>"
      ],
      "text/plain": [
       "                    yt        yt_1        yt_2        yt_3        yt_4  yt5\n",
       "Date                                                                       \n",
       "2013-09-20  157.500931         NaN         NaN         NaN         NaN  NaN\n",
       "2013-09-23  156.772095  157.500931         NaN         NaN         NaN  NaN\n",
       "2013-09-24  156.403091  156.772095  157.500931         NaN         NaN  NaN\n",
       "2013-09-25  155.951004  156.403091  156.772095  157.500931         NaN  NaN\n",
       "2013-09-26  156.550705  155.951004  156.403091  156.772095  157.500931  NaN"
      ]
     },
     "execution_count": 20,
     "metadata": {},
     "output_type": "execute_result"
    }
   ],
   "source": [
    "d1.head()"
   ]
  },
  {
   "cell_type": "code",
   "execution_count": 21,
   "metadata": {
    "collapsed": true
   },
   "outputs": [],
   "source": [
    "d1 = d1.dropna()"
   ]
  },
  {
   "cell_type": "code",
   "execution_count": 22,
   "metadata": {
    "collapsed": true
   },
   "outputs": [],
   "source": [
    "y = d1['yt']"
   ]
  },
  {
   "cell_type": "code",
   "execution_count": 23,
   "metadata": {
    "collapsed": true
   },
   "outputs": [],
   "source": [
    "cols = ['yt_1','yt_2','yt_3','yt_4','yt5']"
   ]
  },
  {
   "cell_type": "code",
   "execution_count": 24,
   "metadata": {
    "collapsed": true
   },
   "outputs": [],
   "source": [
    "x = d1[cols]"
   ]
  },
  {
   "cell_type": "code",
   "execution_count": 25,
   "metadata": {},
   "outputs": [
    {
     "data": {
      "text/html": [
       "<div>\n",
       "<style>\n",
       "    .dataframe thead tr:only-child th {\n",
       "        text-align: right;\n",
       "    }\n",
       "\n",
       "    .dataframe thead th {\n",
       "        text-align: left;\n",
       "    }\n",
       "\n",
       "    .dataframe tbody tr th {\n",
       "        vertical-align: top;\n",
       "    }\n",
       "</style>\n",
       "<table border=\"1\" class=\"dataframe\">\n",
       "  <thead>\n",
       "    <tr style=\"text-align: right;\">\n",
       "      <th></th>\n",
       "      <th>yt_1</th>\n",
       "      <th>yt_2</th>\n",
       "      <th>yt_3</th>\n",
       "      <th>yt_4</th>\n",
       "      <th>yt5</th>\n",
       "    </tr>\n",
       "    <tr>\n",
       "      <th>Date</th>\n",
       "      <th></th>\n",
       "      <th></th>\n",
       "      <th></th>\n",
       "      <th></th>\n",
       "      <th></th>\n",
       "    </tr>\n",
       "  </thead>\n",
       "  <tbody>\n",
       "    <tr>\n",
       "      <th>2013-09-27</th>\n",
       "      <td>156.550705</td>\n",
       "      <td>155.951004</td>\n",
       "      <td>156.403091</td>\n",
       "      <td>156.772095</td>\n",
       "      <td>157.500931</td>\n",
       "    </tr>\n",
       "    <tr>\n",
       "      <th>2013-09-30</th>\n",
       "      <td>155.831100</td>\n",
       "      <td>156.550705</td>\n",
       "      <td>155.951004</td>\n",
       "      <td>156.403091</td>\n",
       "      <td>156.772095</td>\n",
       "    </tr>\n",
       "    <tr>\n",
       "      <th>2013-10-01</th>\n",
       "      <td>155.000748</td>\n",
       "      <td>155.831100</td>\n",
       "      <td>156.550705</td>\n",
       "      <td>155.951004</td>\n",
       "      <td>156.403091</td>\n",
       "    </tr>\n",
       "    <tr>\n",
       "      <th>2013-10-02</th>\n",
       "      <td>156.227814</td>\n",
       "      <td>155.000748</td>\n",
       "      <td>155.831100</td>\n",
       "      <td>156.550705</td>\n",
       "      <td>155.951004</td>\n",
       "    </tr>\n",
       "    <tr>\n",
       "      <th>2013-10-03</th>\n",
       "      <td>156.080200</td>\n",
       "      <td>156.227814</td>\n",
       "      <td>155.000748</td>\n",
       "      <td>155.831100</td>\n",
       "      <td>156.550705</td>\n",
       "    </tr>\n",
       "  </tbody>\n",
       "</table>\n",
       "</div>"
      ],
      "text/plain": [
       "                  yt_1        yt_2        yt_3        yt_4         yt5\n",
       "Date                                                                  \n",
       "2013-09-27  156.550705  155.951004  156.403091  156.772095  157.500931\n",
       "2013-09-30  155.831100  156.550705  155.951004  156.403091  156.772095\n",
       "2013-10-01  155.000748  155.831100  156.550705  155.951004  156.403091\n",
       "2013-10-02  156.227814  155.000748  155.831100  156.550705  155.951004\n",
       "2013-10-03  156.080200  156.227814  155.000748  155.831100  156.550705"
      ]
     },
     "execution_count": 25,
     "metadata": {},
     "output_type": "execute_result"
    }
   ],
   "source": [
    "x.head()"
   ]
  },
  {
   "cell_type": "code",
   "execution_count": 26,
   "metadata": {
    "collapsed": true
   },
   "outputs": [],
   "source": [
    "scaler_x = preprocessing.MinMaxScaler(feature_range=(-1, 1))"
   ]
  },
  {
   "cell_type": "code",
   "execution_count": 27,
   "metadata": {
    "collapsed": true
   },
   "outputs": [],
   "source": [
    "x = np.array(x).reshape((len(x), 5))"
   ]
  },
  {
   "cell_type": "code",
   "execution_count": 28,
   "metadata": {
    "collapsed": true
   },
   "outputs": [],
   "source": [
    "x = scaler_x.fit_transform(x)"
   ]
  },
  {
   "cell_type": "code",
   "execution_count": 29,
   "metadata": {
    "collapsed": true
   },
   "outputs": [],
   "source": [
    "scaler_y = preprocessing.MinMaxScaler(feature_range=(-1, 1))"
   ]
  },
  {
   "cell_type": "code",
   "execution_count": 30,
   "metadata": {
    "collapsed": true
   },
   "outputs": [],
   "source": [
    "y = np.array(y).reshape((len(y), 1))"
   ]
  },
  {
   "cell_type": "code",
   "execution_count": 31,
   "metadata": {
    "collapsed": true
   },
   "outputs": [],
   "source": [
    "y = scaler_y.fit_transform(y)"
   ]
  },
  {
   "cell_type": "code",
   "execution_count": 32,
   "metadata": {},
   "outputs": [
    {
     "data": {
      "text/plain": [
       "1002"
      ]
     },
     "execution_count": 32,
     "metadata": {},
     "output_type": "execute_result"
    }
   ],
   "source": [
    "len(d1)"
   ]
  },
  {
   "cell_type": "code",
   "execution_count": 33,
   "metadata": {},
   "outputs": [
    {
     "data": {
      "text/plain": [
       "1002"
      ]
     },
     "execution_count": 33,
     "metadata": {},
     "output_type": "execute_result"
    }
   ],
   "source": [
    "len(x)"
   ]
  },
  {
   "cell_type": "code",
   "execution_count": 34,
   "metadata": {},
   "outputs": [
    {
     "data": {
      "text/plain": [
       "951.9"
      ]
     },
     "execution_count": 34,
     "metadata": {},
     "output_type": "execute_result"
    }
   ],
   "source": [
    "1002 * .95"
   ]
  },
  {
   "cell_type": "code",
   "execution_count": 35,
   "metadata": {
    "collapsed": true
   },
   "outputs": [],
   "source": [
    "train_end = 952"
   ]
  },
  {
   "cell_type": "code",
   "execution_count": 36,
   "metadata": {
    "collapsed": true
   },
   "outputs": [],
   "source": [
    "x_train = x[0:train_end,]"
   ]
  },
  {
   "cell_type": "code",
   "execution_count": 37,
   "metadata": {
    "collapsed": true
   },
   "outputs": [],
   "source": [
    "x_test = x[train_end+1:1002,]"
   ]
  },
  {
   "cell_type": "code",
   "execution_count": 38,
   "metadata": {
    "collapsed": true
   },
   "outputs": [],
   "source": [
    "y_train = y[0:train_end]"
   ]
  },
  {
   "cell_type": "code",
   "execution_count": 39,
   "metadata": {
    "collapsed": true
   },
   "outputs": [],
   "source": [
    "y_test = y[train_end+1:1002]"
   ]
  },
  {
   "cell_type": "code",
   "execution_count": 40,
   "metadata": {
    "collapsed": true
   },
   "outputs": [],
   "source": [
    "x_train = x_train.reshape(x_train.shape + (1,))"
   ]
  },
  {
   "cell_type": "code",
   "execution_count": 41,
   "metadata": {
    "collapsed": true
   },
   "outputs": [],
   "source": [
    "x_test = x_test.reshape(x_test.shape + (1,))"
   ]
  },
  {
   "cell_type": "code",
   "execution_count": 42,
   "metadata": {
    "collapsed": true
   },
   "outputs": [],
   "source": [
    "seed=2016"
   ]
  },
  {
   "cell_type": "code",
   "execution_count": 43,
   "metadata": {
    "collapsed": true
   },
   "outputs": [],
   "source": [
    "np.random.seed(seed)"
   ]
  },
  {
   "cell_type": "code",
   "execution_count": 44,
   "metadata": {
    "collapsed": true
   },
   "outputs": [],
   "source": [
    "fit1 = Sequential()"
   ]
  },
  {
   "cell_type": "code",
   "execution_count": 45,
   "metadata": {
    "collapsed": true
   },
   "outputs": [],
   "source": [
    "fit1.add(LSTM(units=4, stateful=True, batch_input_shape=(1,5,1), activation='tanh', recurrent_activation='hard_sigmoid'))"
   ]
  },
  {
   "cell_type": "code",
   "execution_count": 46,
   "metadata": {
    "collapsed": true
   },
   "outputs": [],
   "source": [
    "fit1.add(Dense(units=1, activation='linear'))"
   ]
  },
  {
   "cell_type": "code",
   "execution_count": 47,
   "metadata": {
    "collapsed": true
   },
   "outputs": [],
   "source": [
    "fit1.compile(loss='mean_squared_error', optimizer='rmsprop')"
   ]
  },
  {
   "cell_type": "code",
   "execution_count": 48,
   "metadata": {
    "collapsed": true
   },
   "outputs": [],
   "source": [
    "end_point = len(x_train)"
   ]
  },
  {
   "cell_type": "code",
   "execution_count": 49,
   "metadata": {
    "collapsed": true
   },
   "outputs": [],
   "source": [
    "start_point = end_point-100"
   ]
  },
  {
   "cell_type": "code",
   "execution_count": 50,
   "metadata": {},
   "outputs": [
    {
     "name": "stdout",
     "output_type": "stream",
     "text": [
      "Fitting example  0\n",
      "Epoch 1/1\n",
      "0s - loss: 0.0025\n",
      "Fitting example  1\n",
      "Epoch 1/1\n",
      "0s - loss: 0.0027\n",
      "Fitting example  2\n",
      "Epoch 1/1\n",
      "0s - loss: 0.0029\n",
      "Fitting example  3\n",
      "Epoch 1/1\n",
      "0s - loss: 0.0026\n",
      "Fitting example  4\n",
      "Epoch 1/1\n",
      "0s - loss: 0.0022\n",
      "Fitting example  5\n",
      "Epoch 1/1\n",
      "0s - loss: 0.0023\n",
      "Fitting example  6\n",
      "Epoch 1/1\n",
      "0s - loss: 0.0023\n",
      "Fitting example  7\n",
      "Epoch 1/1\n",
      "0s - loss: 0.0020\n",
      "Fitting example  8\n",
      "Epoch 1/1\n",
      "0s - loss: 0.0020\n",
      "Fitting example  9\n",
      "Epoch 1/1\n",
      "0s - loss: 0.0020\n",
      "Fitting example  10\n",
      "Epoch 1/1\n",
      "0s - loss: 0.0017\n",
      "Fitting example  11\n",
      "Epoch 1/1\n",
      "0s - loss: 0.0019\n",
      "Fitting example  12\n",
      "Epoch 1/1\n",
      "0s - loss: 0.0020\n",
      "Fitting example  13\n",
      "Epoch 1/1\n",
      "0s - loss: 0.0018\n",
      "Fitting example  14\n",
      "Epoch 1/1\n",
      "0s - loss: 0.0016\n",
      "Fitting example  15\n",
      "Epoch 1/1\n",
      "0s - loss: 0.0017\n",
      "Fitting example  16\n",
      "Epoch 1/1\n",
      "0s - loss: 0.0017\n",
      "Fitting example  17\n",
      "Epoch 1/1\n",
      "0s - loss: 0.0019\n",
      "Fitting example  18\n",
      "Epoch 1/1\n",
      "0s - loss: 0.0015\n",
      "Fitting example  19\n",
      "Epoch 1/1\n",
      "0s - loss: 0.0018\n",
      "Fitting example  20\n",
      "Epoch 1/1\n",
      "0s - loss: 0.0016\n",
      "Fitting example  21\n",
      "Epoch 1/1\n",
      "0s - loss: 0.0017\n",
      "Fitting example  22\n",
      "Epoch 1/1\n",
      "0s - loss: 0.0015\n",
      "Fitting example  23\n",
      "Epoch 1/1\n",
      "0s - loss: 0.0015\n",
      "Fitting example  24\n",
      "Epoch 1/1\n",
      "0s - loss: 0.0014\n",
      "Fitting example  25\n",
      "Epoch 1/1\n",
      "0s - loss: 0.0016\n",
      "Fitting example  26\n",
      "Epoch 1/1\n",
      "0s - loss: 0.0016\n",
      "Fitting example  27\n",
      "Epoch 1/1\n",
      "0s - loss: 0.0013\n",
      "Fitting example  28\n",
      "Epoch 1/1\n",
      "0s - loss: 0.0016\n",
      "Fitting example  29\n",
      "Epoch 1/1\n",
      "0s - loss: 0.0014\n",
      "Fitting example  30\n",
      "Epoch 1/1\n",
      "0s - loss: 0.0014\n",
      "Fitting example  31\n",
      "Epoch 1/1\n",
      "0s - loss: 0.0014\n",
      "Fitting example  32\n",
      "Epoch 1/1\n",
      "0s - loss: 0.0014\n",
      "Fitting example  33\n",
      "Epoch 1/1\n",
      "0s - loss: 0.0014\n",
      "Fitting example  34\n",
      "Epoch 1/1\n",
      "0s - loss: 0.0015\n",
      "Fitting example  35\n",
      "Epoch 1/1\n",
      "0s - loss: 0.0014\n",
      "Fitting example  36\n",
      "Epoch 1/1\n",
      "0s - loss: 0.0014\n",
      "Fitting example  37\n",
      "Epoch 1/1\n",
      "0s - loss: 0.0011\n",
      "Fitting example  38\n",
      "Epoch 1/1\n",
      "0s - loss: 0.0014\n",
      "Fitting example  39\n",
      "Epoch 1/1\n",
      "0s - loss: 0.0016\n",
      "Fitting example  40\n",
      "Epoch 1/1\n",
      "0s - loss: 0.0014\n",
      "Fitting example  41\n",
      "Epoch 1/1\n",
      "0s - loss: 0.0012\n",
      "Fitting example  42\n",
      "Epoch 1/1\n",
      "0s - loss: 0.0014\n",
      "Fitting example  43\n",
      "Epoch 1/1\n",
      "0s - loss: 0.0013\n",
      "Fitting example  44\n",
      "Epoch 1/1\n",
      "0s - loss: 0.0012\n",
      "Fitting example  45\n",
      "Epoch 1/1\n",
      "0s - loss: 0.0015\n",
      "Fitting example  46\n",
      "Epoch 1/1\n",
      "0s - loss: 0.0014\n",
      "Fitting example  47\n",
      "Epoch 1/1\n",
      "0s - loss: 0.0013\n",
      "Fitting example  48\n",
      "Epoch 1/1\n",
      "0s - loss: 0.0013\n",
      "Fitting example  49\n",
      "Epoch 1/1\n",
      "0s - loss: 0.0011\n",
      "Fitting example  50\n",
      "Epoch 1/1\n",
      "0s - loss: 0.0013\n",
      "Fitting example  51\n",
      "Epoch 1/1\n",
      "0s - loss: 0.0012\n",
      "Fitting example  52\n",
      "Epoch 1/1\n",
      "0s - loss: 0.0012\n",
      "Fitting example  53\n",
      "Epoch 1/1\n",
      "0s - loss: 0.0012\n",
      "Fitting example  54\n",
      "Epoch 1/1\n",
      "0s - loss: 0.0013\n",
      "Fitting example  55\n",
      "Epoch 1/1\n",
      "0s - loss: 0.0012\n",
      "Fitting example  56\n",
      "Epoch 1/1\n",
      "0s - loss: 0.0013\n",
      "Fitting example  57\n",
      "Epoch 1/1\n",
      "0s - loss: 0.0012\n",
      "Fitting example  58\n",
      "Epoch 1/1\n",
      "0s - loss: 0.0012\n",
      "Fitting example  59\n",
      "Epoch 1/1\n",
      "0s - loss: 0.0013\n",
      "Fitting example  60\n",
      "Epoch 1/1\n",
      "0s - loss: 0.0013\n",
      "Fitting example  61\n",
      "Epoch 1/1\n",
      "0s - loss: 0.0012\n",
      "Fitting example  62\n",
      "Epoch 1/1\n",
      "0s - loss: 0.0012\n",
      "Fitting example  63\n",
      "Epoch 1/1\n",
      "0s - loss: 0.0011\n",
      "Fitting example  64\n",
      "Epoch 1/1\n",
      "0s - loss: 0.0012\n",
      "Fitting example  65\n",
      "Epoch 1/1\n",
      "0s - loss: 0.0011\n",
      "Fitting example  66\n",
      "Epoch 1/1\n",
      "0s - loss: 0.0011\n",
      "Fitting example  67\n",
      "Epoch 1/1\n",
      "0s - loss: 0.0011\n",
      "Fitting example  68\n",
      "Epoch 1/1\n",
      "0s - loss: 0.0011\n",
      "Fitting example  69\n",
      "Epoch 1/1\n",
      "0s - loss: 0.0011\n",
      "Fitting example  70\n",
      "Epoch 1/1\n",
      "0s - loss: 0.0011\n",
      "Fitting example  71\n",
      "Epoch 1/1\n",
      "0s - loss: 0.0011\n",
      "Fitting example  72\n",
      "Epoch 1/1\n",
      "0s - loss: 9.9547e-04\n",
      "Fitting example  73\n",
      "Epoch 1/1\n",
      "0s - loss: 0.0010\n",
      "Fitting example  74\n",
      "Epoch 1/1\n",
      "0s - loss: 0.0011\n",
      "Fitting example  75\n",
      "Epoch 1/1\n",
      "0s - loss: 9.9136e-04\n",
      "Fitting example  76\n",
      "Epoch 1/1\n",
      "0s - loss: 0.0010\n",
      "Fitting example  77\n",
      "Epoch 1/1\n",
      "0s - loss: 9.0859e-04\n",
      "Fitting example  78\n",
      "Epoch 1/1\n",
      "0s - loss: 9.8918e-04\n",
      "Fitting example  79\n",
      "Epoch 1/1\n",
      "0s - loss: 9.5502e-04\n",
      "Fitting example  80\n",
      "Epoch 1/1\n",
      "0s - loss: 9.0610e-04\n",
      "Fitting example  81\n",
      "Epoch 1/1\n",
      "0s - loss: 9.3278e-04\n",
      "Fitting example  82\n",
      "Epoch 1/1\n",
      "0s - loss: 9.7525e-04\n",
      "Fitting example  83\n",
      "Epoch 1/1\n",
      "0s - loss: 9.3830e-04\n",
      "Fitting example  84\n",
      "Epoch 1/1\n",
      "0s - loss: 9.7220e-04\n",
      "Fitting example  85\n",
      "Epoch 1/1\n",
      "0s - loss: 9.2444e-04\n",
      "Fitting example  86\n",
      "Epoch 1/1\n",
      "0s - loss: 9.5379e-04\n",
      "Fitting example  87\n",
      "Epoch 1/1\n",
      "0s - loss: 8.6439e-04\n",
      "Fitting example  88\n",
      "Epoch 1/1\n",
      "0s - loss: 9.4557e-04\n",
      "Fitting example  89\n",
      "Epoch 1/1\n",
      "0s - loss: 8.3585e-04\n",
      "Fitting example  90\n",
      "Epoch 1/1\n",
      "0s - loss: 8.2078e-04\n",
      "Fitting example  91\n",
      "Epoch 1/1\n",
      "0s - loss: 8.4703e-04\n",
      "Fitting example  92\n",
      "Epoch 1/1\n",
      "0s - loss: 9.1299e-04\n",
      "Fitting example  93\n",
      "Epoch 1/1\n",
      "0s - loss: 8.3572e-04\n",
      "Fitting example  94\n",
      "Epoch 1/1\n",
      "0s - loss: 8.4475e-04\n",
      "Fitting example  95\n",
      "Epoch 1/1\n",
      "0s - loss: 8.0191e-04\n",
      "Fitting example  96\n",
      "Epoch 1/1\n",
      "0s - loss: 7.9466e-04\n",
      "Fitting example  97\n",
      "Epoch 1/1\n",
      "0s - loss: 7.8885e-04\n",
      "Fitting example  98\n",
      "Epoch 1/1\n",
      "0s - loss: 7.9671e-04\n",
      "Fitting example  99\n",
      "Epoch 1/1\n",
      "0s - loss: 8.5823e-04\n"
     ]
    }
   ],
   "source": [
    "for i in range(len(x_train[start_point:end_point])):\n",
    "    print('Fitting example ', i)\n",
    "    fit1.fit(x_train[start_point:end_point], y_train[start_point:end_point], epochs=1, batch_size=1, verbose=2, shuffle=True)\n",
    "    fit1.reset_states()"
   ]
  },
  {
   "cell_type": "code",
   "execution_count": 51,
   "metadata": {},
   "outputs": [
    {
     "data": {
      "text/plain": [
       "(49, 5, 1)"
      ]
     },
     "execution_count": 51,
     "metadata": {},
     "output_type": "execute_result"
    }
   ],
   "source": [
    "np.shape(x_test)"
   ]
  },
  {
   "cell_type": "code",
   "execution_count": 52,
   "metadata": {},
   "outputs": [
    {
     "data": {
      "text/plain": [
       "array([[[ 1.        ],\n",
       "        [ 1.        ],\n",
       "        [ 0.99834618],\n",
       "        [ 1.        ],\n",
       "        [ 1.        ]]])"
      ]
     },
     "execution_count": 52,
     "metadata": {},
     "output_type": "execute_result"
    }
   ],
   "source": [
    "x_test[-1::]"
   ]
  },
  {
   "cell_type": "code",
   "execution_count": 53,
   "metadata": {
    "collapsed": true
   },
   "outputs": [],
   "source": [
    "def make_forecast(model, look_back_buffer, timesteps):\n",
    "    forecast_predict = np.empty((0, 1), dtype=np.float64)\n",
    "    for _ in range(timesteps):\n",
    "        # make prediction with lookback buffer\n",
    "        cur_predict = model.predict(look_back_buffer)\n",
    "        # add prediction to result\n",
    "        forecast_predict = np.concatenate([forecast_predict, cur_predict], axis=0)\n",
    "        # add new axis to prediction\n",
    "        cur_predict = np.reshape(cur_predict, (cur_predict.shape[1], cur_predict.shape[0], 1))\n",
    "        # remove oldest prediction from buffer\n",
    "        look_back_buffer = np.delete(look_back_buffer, 0, axis=1)\n",
    "        # concat buffer with newest prediction\n",
    "        look_back_buffer = np.concatenate([look_back_buffer, cur_predict], axis=1)\n",
    "    return forecast_predict"
   ]
  },
  {
   "cell_type": "code",
   "execution_count": 54,
   "metadata": {
    "collapsed": true
   },
   "outputs": [],
   "source": [
    "forecast_predict = make_forecast(model=fit1, look_back_buffer=x_test[-1::], timesteps=10)"
   ]
  },
  {
   "cell_type": "code",
   "execution_count": 55,
   "metadata": {},
   "outputs": [
    {
     "data": {
      "text/plain": [
       "(10, 1)"
      ]
     },
     "execution_count": 55,
     "metadata": {},
     "output_type": "execute_result"
    }
   ],
   "source": [
    "np.shape(forecast_predict)"
   ]
  },
  {
   "cell_type": "code",
   "execution_count": 56,
   "metadata": {
    "collapsed": true
   },
   "outputs": [],
   "source": [
    "forecast_predict = scaler_y.inverse_transform(np.array(forecast_predict).reshape((len(forecast_predict), 1)))"
   ]
  },
  {
   "cell_type": "code",
   "execution_count": 57,
   "metadata": {
    "collapsed": true
   },
   "outputs": [],
   "source": [
    "forecast_predict = np.ndarray.flatten(forecast_predict)"
   ]
  },
  {
   "cell_type": "code",
   "execution_count": 58,
   "metadata": {
    "collapsed": true
   },
   "outputs": [],
   "source": [
    "forecast_predict = pd.Series(forecast_predict)"
   ]
  },
  {
   "cell_type": "code",
   "execution_count": 59,
   "metadata": {
    "collapsed": true
   },
   "outputs": [],
   "source": [
    "data['prediction'] = np.nan"
   ]
  },
  {
   "cell_type": "code",
   "execution_count": 60,
   "metadata": {},
   "outputs": [
    {
     "data": {
      "text/html": [
       "<div>\n",
       "<style>\n",
       "    .dataframe thead tr:only-child th {\n",
       "        text-align: right;\n",
       "    }\n",
       "\n",
       "    .dataframe thead th {\n",
       "        text-align: left;\n",
       "    }\n",
       "\n",
       "    .dataframe tbody tr th {\n",
       "        vertical-align: top;\n",
       "    }\n",
       "</style>\n",
       "<table border=\"1\" class=\"dataframe\">\n",
       "  <thead>\n",
       "    <tr style=\"text-align: right;\">\n",
       "      <th></th>\n",
       "      <th>SPY</th>\n",
       "      <th>prediction</th>\n",
       "    </tr>\n",
       "    <tr>\n",
       "      <th>Date</th>\n",
       "      <th></th>\n",
       "      <th></th>\n",
       "    </tr>\n",
       "  </thead>\n",
       "  <tbody>\n",
       "    <tr>\n",
       "      <th>2017-09-13</th>\n",
       "      <td>248.934601</td>\n",
       "      <td>NaN</td>\n",
       "    </tr>\n",
       "    <tr>\n",
       "      <th>2017-09-14</th>\n",
       "      <td>248.854996</td>\n",
       "      <td>NaN</td>\n",
       "    </tr>\n",
       "    <tr>\n",
       "      <th>2017-09-15</th>\n",
       "      <td>249.190002</td>\n",
       "      <td>NaN</td>\n",
       "    </tr>\n",
       "    <tr>\n",
       "      <th>2017-09-18</th>\n",
       "      <td>249.720001</td>\n",
       "      <td>NaN</td>\n",
       "    </tr>\n",
       "    <tr>\n",
       "      <th>2017-09-19</th>\n",
       "      <td>249.970001</td>\n",
       "      <td>NaN</td>\n",
       "    </tr>\n",
       "  </tbody>\n",
       "</table>\n",
       "</div>"
      ],
      "text/plain": [
       "                   SPY  prediction\n",
       "Date                              \n",
       "2017-09-13  248.934601         NaN\n",
       "2017-09-14  248.854996         NaN\n",
       "2017-09-15  249.190002         NaN\n",
       "2017-09-18  249.720001         NaN\n",
       "2017-09-19  249.970001         NaN"
      ]
     },
     "execution_count": 60,
     "metadata": {},
     "output_type": "execute_result"
    }
   ],
   "source": [
    "data.tail()"
   ]
  },
  {
   "cell_type": "code",
   "execution_count": 61,
   "metadata": {
    "collapsed": true
   },
   "outputs": [],
   "source": [
    "df2 = data"
   ]
  },
  {
   "cell_type": "code",
   "execution_count": 64,
   "metadata": {
    "collapsed": true
   },
   "outputs": [],
   "source": [
    "df2 = df2.reset_index()"
   ]
  },
  {
   "cell_type": "code",
   "execution_count": 65,
   "metadata": {},
   "outputs": [
    {
     "data": {
      "text/html": [
       "<div>\n",
       "<style>\n",
       "    .dataframe thead tr:only-child th {\n",
       "        text-align: right;\n",
       "    }\n",
       "\n",
       "    .dataframe thead th {\n",
       "        text-align: left;\n",
       "    }\n",
       "\n",
       "    .dataframe tbody tr th {\n",
       "        vertical-align: top;\n",
       "    }\n",
       "</style>\n",
       "<table border=\"1\" class=\"dataframe\">\n",
       "  <thead>\n",
       "    <tr style=\"text-align: right;\">\n",
       "      <th></th>\n",
       "      <th>Date</th>\n",
       "      <th>SPY</th>\n",
       "      <th>prediction</th>\n",
       "    </tr>\n",
       "  </thead>\n",
       "  <tbody>\n",
       "    <tr>\n",
       "      <th>0</th>\n",
       "      <td>2013-09-20</td>\n",
       "      <td>157.500931</td>\n",
       "      <td>NaN</td>\n",
       "    </tr>\n",
       "    <tr>\n",
       "      <th>1</th>\n",
       "      <td>2013-09-23</td>\n",
       "      <td>156.772095</td>\n",
       "      <td>NaN</td>\n",
       "    </tr>\n",
       "    <tr>\n",
       "      <th>2</th>\n",
       "      <td>2013-09-24</td>\n",
       "      <td>156.403091</td>\n",
       "      <td>NaN</td>\n",
       "    </tr>\n",
       "    <tr>\n",
       "      <th>3</th>\n",
       "      <td>2013-09-25</td>\n",
       "      <td>155.951004</td>\n",
       "      <td>NaN</td>\n",
       "    </tr>\n",
       "    <tr>\n",
       "      <th>4</th>\n",
       "      <td>2013-09-26</td>\n",
       "      <td>156.550705</td>\n",
       "      <td>NaN</td>\n",
       "    </tr>\n",
       "  </tbody>\n",
       "</table>\n",
       "</div>"
      ],
      "text/plain": [
       "        Date         SPY  prediction\n",
       "0 2013-09-20  157.500931         NaN\n",
       "1 2013-09-23  156.772095         NaN\n",
       "2 2013-09-24  156.403091         NaN\n",
       "3 2013-09-25  155.951004         NaN\n",
       "4 2013-09-26  156.550705         NaN"
      ]
     },
     "execution_count": 65,
     "metadata": {},
     "output_type": "execute_result"
    }
   ],
   "source": [
    "df2.head()"
   ]
  },
  {
   "cell_type": "code",
   "execution_count": 66,
   "metadata": {},
   "outputs": [
    {
     "data": {
      "text/html": [
       "<div>\n",
       "<style>\n",
       "    .dataframe thead tr:only-child th {\n",
       "        text-align: right;\n",
       "    }\n",
       "\n",
       "    .dataframe thead th {\n",
       "        text-align: left;\n",
       "    }\n",
       "\n",
       "    .dataframe tbody tr th {\n",
       "        vertical-align: top;\n",
       "    }\n",
       "</style>\n",
       "<table border=\"1\" class=\"dataframe\">\n",
       "  <thead>\n",
       "    <tr style=\"text-align: right;\">\n",
       "      <th></th>\n",
       "      <th>Date</th>\n",
       "      <th>SPY</th>\n",
       "      <th>prediction</th>\n",
       "    </tr>\n",
       "  </thead>\n",
       "  <tbody>\n",
       "    <tr>\n",
       "      <th>1002</th>\n",
       "      <td>2017-09-13</td>\n",
       "      <td>248.934601</td>\n",
       "      <td>NaN</td>\n",
       "    </tr>\n",
       "    <tr>\n",
       "      <th>1003</th>\n",
       "      <td>2017-09-14</td>\n",
       "      <td>248.854996</td>\n",
       "      <td>NaN</td>\n",
       "    </tr>\n",
       "    <tr>\n",
       "      <th>1004</th>\n",
       "      <td>2017-09-15</td>\n",
       "      <td>249.190002</td>\n",
       "      <td>NaN</td>\n",
       "    </tr>\n",
       "    <tr>\n",
       "      <th>1005</th>\n",
       "      <td>2017-09-18</td>\n",
       "      <td>249.720001</td>\n",
       "      <td>NaN</td>\n",
       "    </tr>\n",
       "    <tr>\n",
       "      <th>1006</th>\n",
       "      <td>2017-09-19</td>\n",
       "      <td>249.970001</td>\n",
       "      <td>NaN</td>\n",
       "    </tr>\n",
       "  </tbody>\n",
       "</table>\n",
       "</div>"
      ],
      "text/plain": [
       "           Date         SPY  prediction\n",
       "1002 2017-09-13  248.934601         NaN\n",
       "1003 2017-09-14  248.854996         NaN\n",
       "1004 2017-09-15  249.190002         NaN\n",
       "1005 2017-09-18  249.720001         NaN\n",
       "1006 2017-09-19  249.970001         NaN"
      ]
     },
     "execution_count": 66,
     "metadata": {},
     "output_type": "execute_result"
    }
   ],
   "source": [
    "df2.tail()"
   ]
  },
  {
   "cell_type": "code",
   "execution_count": 67,
   "metadata": {
    "collapsed": true
   },
   "outputs": [],
   "source": [
    "samp = df2.loc[1006, 'Date']"
   ]
  },
  {
   "cell_type": "code",
   "execution_count": 68,
   "metadata": {},
   "outputs": [
    {
     "data": {
      "text/plain": [
       "Timestamp('2017-09-19 00:00:00')"
      ]
     },
     "execution_count": 68,
     "metadata": {},
     "output_type": "execute_result"
    }
   ],
   "source": [
    "samp"
   ]
  },
  {
   "cell_type": "code",
   "execution_count": 70,
   "metadata": {
    "collapsed": true
   },
   "outputs": [],
   "source": [
    "for i in range(1006, 1016):\n",
    "    samp += dt.timedelta(days=1)\n",
    "    df2.loc[len(df2), 'Date'] = samp"
   ]
  },
  {
   "cell_type": "code",
   "execution_count": 71,
   "metadata": {},
   "outputs": [
    {
     "data": {
      "text/html": [
       "<div>\n",
       "<style>\n",
       "    .dataframe thead tr:only-child th {\n",
       "        text-align: right;\n",
       "    }\n",
       "\n",
       "    .dataframe thead th {\n",
       "        text-align: left;\n",
       "    }\n",
       "\n",
       "    .dataframe tbody tr th {\n",
       "        vertical-align: top;\n",
       "    }\n",
       "</style>\n",
       "<table border=\"1\" class=\"dataframe\">\n",
       "  <thead>\n",
       "    <tr style=\"text-align: right;\">\n",
       "      <th></th>\n",
       "      <th>Date</th>\n",
       "      <th>SPY</th>\n",
       "      <th>prediction</th>\n",
       "    </tr>\n",
       "  </thead>\n",
       "  <tbody>\n",
       "    <tr>\n",
       "      <th>1012</th>\n",
       "      <td>2017-09-25</td>\n",
       "      <td>NaN</td>\n",
       "      <td>NaN</td>\n",
       "    </tr>\n",
       "    <tr>\n",
       "      <th>1013</th>\n",
       "      <td>2017-09-26</td>\n",
       "      <td>NaN</td>\n",
       "      <td>NaN</td>\n",
       "    </tr>\n",
       "    <tr>\n",
       "      <th>1014</th>\n",
       "      <td>2017-09-27</td>\n",
       "      <td>NaN</td>\n",
       "      <td>NaN</td>\n",
       "    </tr>\n",
       "    <tr>\n",
       "      <th>1015</th>\n",
       "      <td>2017-09-28</td>\n",
       "      <td>NaN</td>\n",
       "      <td>NaN</td>\n",
       "    </tr>\n",
       "    <tr>\n",
       "      <th>1016</th>\n",
       "      <td>2017-09-29</td>\n",
       "      <td>NaN</td>\n",
       "      <td>NaN</td>\n",
       "    </tr>\n",
       "  </tbody>\n",
       "</table>\n",
       "</div>"
      ],
      "text/plain": [
       "           Date  SPY  prediction\n",
       "1012 2017-09-25  NaN         NaN\n",
       "1013 2017-09-26  NaN         NaN\n",
       "1014 2017-09-27  NaN         NaN\n",
       "1015 2017-09-28  NaN         NaN\n",
       "1016 2017-09-29  NaN         NaN"
      ]
     },
     "execution_count": 71,
     "metadata": {},
     "output_type": "execute_result"
    }
   ],
   "source": [
    "df2.tail()"
   ]
  },
  {
   "cell_type": "code",
   "execution_count": 74,
   "metadata": {},
   "outputs": [
    {
     "name": "stderr",
     "output_type": "stream",
     "text": [
      "/usr/local/lib/python3.5/dist-packages/ipykernel_launcher.py:1: SettingWithCopyWarning: \n",
      "A value is trying to be set on a copy of a slice from a DataFrame\n",
      "\n",
      "See the caveats in the documentation: http://pandas.pydata.org/pandas-docs/stable/indexing.html#indexing-view-versus-copy\n",
      "  \"\"\"Entry point for launching an IPython kernel.\n"
     ]
    }
   ],
   "source": [
    "df2['prediction'][1007:] = forecast_predict"
   ]
  },
  {
   "cell_type": "code",
   "execution_count": 77,
   "metadata": {
    "collapsed": true
   },
   "outputs": [],
   "source": [
    "df2 = df2.set_index('Date')"
   ]
  },
  {
   "cell_type": "code",
   "execution_count": 78,
   "metadata": {},
   "outputs": [
    {
     "data": {
      "text/plain": [
       "<matplotlib.axes._subplots.AxesSubplot at 0x7f73d0761ef0>"
      ]
     },
     "execution_count": 78,
     "metadata": {},
     "output_type": "execute_result"
    }
   ],
   "source": [
    "df2.plot(figsize=(9,9))"
   ]
  },
  {
   "cell_type": "code",
   "execution_count": 79,
   "metadata": {},
   "outputs": [
    {
     "data": {
      "image/png": "[encoded data removed]",
      "text/plain": [
       "<matplotlib.figure.Figure at 0x7f73d0156978>"
      ]
     },
     "metadata": {},
     "output_type": "display_data"
    }
   ],
   "source": [
    "plt.show()"
   ]
  },
  {
   "cell_type": "code",
   "execution_count": 81,
   "metadata": {},
   "outputs": [
    {
     "data": {
      "text/html": [
       "<div>\n",
       "<style>\n",
       "    .dataframe thead tr:only-child th {\n",
       "        text-align: right;\n",
       "    }\n",
       "\n",
       "    .dataframe thead th {\n",
       "        text-align: left;\n",
       "    }\n",
       "\n",
       "    .dataframe tbody tr th {\n",
       "        vertical-align: top;\n",
       "    }\n",
       "</style>\n",
       "<table border=\"1\" class=\"dataframe\">\n",
       "  <thead>\n",
       "    <tr style=\"text-align: right;\">\n",
       "      <th></th>\n",
       "      <th>SPY</th>\n",
       "      <th>prediction</th>\n",
       "    </tr>\n",
       "    <tr>\n",
       "      <th>Date</th>\n",
       "      <th></th>\n",
       "      <th></th>\n",
       "    </tr>\n",
       "  </thead>\n",
       "  <tbody>\n",
       "    <tr>\n",
       "      <th>2017-09-18</th>\n",
       "      <td>249.720001</td>\n",
       "      <td>NaN</td>\n",
       "    </tr>\n",
       "    <tr>\n",
       "      <th>2017-09-19</th>\n",
       "      <td>249.970001</td>\n",
       "      <td>NaN</td>\n",
       "    </tr>\n",
       "    <tr>\n",
       "      <th>2017-09-20</th>\n",
       "      <td>NaN</td>\n",
       "      <td>245.512782</td>\n",
       "    </tr>\n",
       "    <tr>\n",
       "      <th>2017-09-21</th>\n",
       "      <td>NaN</td>\n",
       "      <td>247.817081</td>\n",
       "    </tr>\n",
       "    <tr>\n",
       "      <th>2017-09-22</th>\n",
       "      <td>NaN</td>\n",
       "      <td>245.437452</td>\n",
       "    </tr>\n",
       "    <tr>\n",
       "      <th>2017-09-23</th>\n",
       "      <td>NaN</td>\n",
       "      <td>246.210742</td>\n",
       "    </tr>\n",
       "    <tr>\n",
       "      <th>2017-09-24</th>\n",
       "      <td>NaN</td>\n",
       "      <td>244.525732</td>\n",
       "    </tr>\n",
       "    <tr>\n",
       "      <th>2017-09-25</th>\n",
       "      <td>NaN</td>\n",
       "      <td>244.325328</td>\n",
       "    </tr>\n",
       "    <tr>\n",
       "      <th>2017-09-26</th>\n",
       "      <td>NaN</td>\n",
       "      <td>244.029275</td>\n",
       "    </tr>\n",
       "    <tr>\n",
       "      <th>2017-09-27</th>\n",
       "      <td>NaN</td>\n",
       "      <td>243.203916</td>\n",
       "    </tr>\n",
       "    <tr>\n",
       "      <th>2017-09-28</th>\n",
       "      <td>NaN</td>\n",
       "      <td>243.039784</td>\n",
       "    </tr>\n",
       "    <tr>\n",
       "      <th>2017-09-29</th>\n",
       "      <td>NaN</td>\n",
       "      <td>242.308774</td>\n",
       "    </tr>\n",
       "  </tbody>\n",
       "</table>\n",
       "</div>"
      ],
      "text/plain": [
       "                   SPY  prediction\n",
       "Date                              \n",
       "2017-09-18  249.720001         NaN\n",
       "2017-09-19  249.970001         NaN\n",
       "2017-09-20         NaN  245.512782\n",
       "2017-09-21         NaN  247.817081\n",
       "2017-09-22         NaN  245.437452\n",
       "2017-09-23         NaN  246.210742\n",
       "2017-09-24         NaN  244.525732\n",
       "2017-09-25         NaN  244.325328\n",
       "2017-09-26         NaN  244.029275\n",
       "2017-09-27         NaN  243.203916\n",
       "2017-09-28         NaN  243.039784\n",
       "2017-09-29         NaN  242.308774"
      ]
     },
     "execution_count": 81,
     "metadata": {},
     "output_type": "execute_result"
    }
   ],
   "source": [
    "df2.tail(n=12)"
   ]
  },
  {
   "cell_type": "code",
   "execution_count": null,
   "metadata": {
    "collapsed": true
   },
   "outputs": [],
   "source": []
  }
 ],
 "metadata": {
  "kernelspec": {
   "display_name": "Python 3",
   "language": "python",
   "name": "python3"
  },
  "language_info": {
   "codemirror_mode": {
    "name": "ipython",
    "version": 3
   },
   "file_extension": ".py",
   "mimetype": "text/x-python",
   "name": "python",
   "nbconvert_exporter": "python",
   "pygments_lexer": "ipython3",
   "version": "3.5.2"
  }
 },
 "nbformat": 4,
 "nbformat_minor": 2
}
